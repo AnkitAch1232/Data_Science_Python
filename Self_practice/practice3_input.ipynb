{
 "cells": [
  {
   "cell_type": "code",
   "execution_count": 2,
   "id": "b0e10178",
   "metadata": {},
   "outputs": [
    {
     "name": "stdout",
     "output_type": "stream",
     "text": [
      "Welcome ANkit Acharya\n"
     ]
    }
   ],
   "source": [
    "#Basic Input\n",
    "name = input(\"Enter your name: \")\n",
    "print(\"Welcome\",name)"
   ]
  },
  {
   "cell_type": "code",
   "execution_count": 3,
   "id": "e9b370f2",
   "metadata": {},
   "outputs": [
    {
     "name": "stdout",
     "output_type": "stream",
     "text": [
      "ankit has weight 69.2 and age 22\n"
     ]
    }
   ],
   "source": [
    "#Multiple Inputs\n",
    "name = input(\"Enter your name: \")\n",
    "age = input(\"Enter your age: \")\n",
    "weight = input(\"Enter your weight: \")\n",
    "print(name,\"has weight\",weight,\"and age \"+age)"
   ]
  },
  {
   "cell_type": "code",
   "execution_count": 6,
   "id": "6750b374",
   "metadata": {},
   "outputs": [
    {
     "name": "stdout",
     "output_type": "stream",
     "text": [
      "The sum of 12 and 12 is 24\n"
     ]
    }
   ],
   "source": [
    "#Taking Interger Inputs and Performing Addition\n",
    "x= input(\"Enter first num: \")\n",
    "y = input(\"Enter second num: \")\n",
    "x= int(x)\n",
    "y= int(y)\n",
    "result = x + y\n",
    "print(f\"The sum of {x} and {y} is {result}\")"
   ]
  },
  {
   "cell_type": "code",
   "execution_count": 7,
   "id": "fb4f3983",
   "metadata": {},
   "outputs": [
    {
     "name": "stdout",
     "output_type": "stream",
     "text": [
      "Sum of 12 and 12 is 24\n"
     ]
    }
   ],
   "source": [
    "#Shortcut for converting input to integer\n",
    "x= int(input(\"Enter first num: \"))\n",
    "y= int(input(\"Enter second num: \"))\n",
    "sum = x + y\n",
    "print(f\"Sum of {x} and {y} is {sum}\")"
   ]
  },
  {
   "cell_type": "code",
   "execution_count": 8,
   "id": "f42dc178",
   "metadata": {},
   "outputs": [
    {
     "name": "stdout",
     "output_type": "stream",
     "text": [
      "3\n"
     ]
    }
   ],
   "source": [
    "#Without prompts for competitive Programming\n",
    "x= int(input())\n",
    "y= int(input())\n",
    "sum = x +y\n",
    "print(sum)"
   ]
  }
 ],
 "metadata": {
  "kernelspec": {
   "display_name": "Python 3",
   "language": "python",
   "name": "python3"
  },
  "language_info": {
   "codemirror_mode": {
    "name": "ipython",
    "version": 3
   },
   "file_extension": ".py",
   "mimetype": "text/x-python",
   "name": "python",
   "nbconvert_exporter": "python",
   "pygments_lexer": "ipython3",
   "version": "3.13.4"
  }
 },
 "nbformat": 4,
 "nbformat_minor": 5
}
