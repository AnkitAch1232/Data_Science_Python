{
 "cells": [
  {
   "cell_type": "code",
   "execution_count": 2,
   "id": "b0e10178",
   "metadata": {},
   "outputs": [
    {
     "name": "stdout",
     "output_type": "stream",
     "text": [
      "Welcome ANkit Acharya\n"
     ]
    }
   ],
   "source": [
    "#Basic Input\n",
    "name = input(\"Enter your name: \")\n",
    "print(\"Welcome\",name)"
   ]
  },
  {
   "cell_type": "code",
   "execution_count": 3,
   "id": "e9b370f2",
   "metadata": {},
   "outputs": [
    {
     "name": "stdout",
     "output_type": "stream",
     "text": [
      "ankit has weight 69.2 and age 22\n"
     ]
    }
   ],
   "source": [
    "#Multiple Inputs\n",
    "name = input(\"Enter your name: \")\n",
    "age = input(\"Enter your age: \")\n",
    "weight = input(\"Enter your weight: \")\n",
    "print(name,\"has weight\",weight,\"and age \"+age)"
   ]
  },
  {
   "cell_type": "code",
   "execution_count": null,
   "id": "6750b374",
   "metadata": {},
   "outputs": [],
   "source": []
  }
 ],
 "metadata": {
  "kernelspec": {
   "display_name": "Python 3",
   "language": "python",
   "name": "python3"
  },
  "language_info": {
   "codemirror_mode": {
    "name": "ipython",
    "version": 3
   },
   "file_extension": ".py",
   "mimetype": "text/x-python",
   "name": "python",
   "nbconvert_exporter": "python",
   "pygments_lexer": "ipython3",
   "version": "3.13.4"
  }
 },
 "nbformat": 4,
 "nbformat_minor": 5
}
