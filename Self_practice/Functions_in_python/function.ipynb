{
 "cells": [
  {
   "cell_type": "markdown",
   "id": "0b4465fb",
   "metadata": {},
   "source": [
    "Functions in Python"
   ]
  },
  {
   "cell_type": "code",
   "execution_count": 2,
   "id": "783c4a96",
   "metadata": {},
   "outputs": [
    {
     "name": "stdout",
     "output_type": "stream",
     "text": [
      "Before calling fun()\n",
      "func() called\n",
      "After calling fun()\n"
     ]
    }
   ],
   "source": [
    "# Example 1 : Simple Function\n",
    "def fun():\n",
    "    print(\"func() called\")\n",
    "print(\"Before calling fun()\")\n",
    "\n",
    "fun()\n",
    "\n",
    "print(\"After calling fun()\")"
   ]
  },
  {
   "cell_type": "code",
   "execution_count": 4,
   "id": "831c38c2",
   "metadata": {},
   "outputs": [
    {
     "name": "stdout",
     "output_type": "stream",
     "text": [
      "Before calling fun()\n",
      "fun() called\n",
      "fun() called\n",
      "After calling fun()\n"
     ]
    }
   ],
   "source": [
    "# Example 2: Function with Multiple Cells\n",
    "def fun():\n",
    "    print(\"fun() called\")\n",
    "print(\"Before calling fun()\")\n",
    "\n",
    "fun()\n",
    "fun()\n",
    "\n",
    "print(\"After calling fun()\")"
   ]
  },
  {
   "cell_type": "code",
   "execution_count": 7,
   "id": "d7421690",
   "metadata": {},
   "outputs": [
    {
     "name": "stdout",
     "output_type": "stream",
     "text": [
      "India became independent on 15-08-1947\n"
     ]
    }
   ],
   "source": [
    "# Example 3: Function with Parameters\n",
    "def printDate(d,m,y):\n",
    "    print(d,m,y,sep=\"-\")\n",
    "\n",
    "print(\"India became independent on\",end=\" \")\n",
    "printDate(\"15\",\"08\",\"1947\")"
   ]
  },
  {
   "cell_type": "code",
   "execution_count": 9,
   "id": "c1d34c9e",
   "metadata": {},
   "outputs": [
    {
     "name": "stdout",
     "output_type": "stream",
     "text": [
      "India Become Independent on 15-08-1947\n"
     ]
    }
   ],
   "source": [
    "# Example 4: Function Returing Values\n",
    "def getDate(d,m,y):\n",
    "    return d + \"-\"+ m + \"-\" + y\n",
    "\n",
    "print(\"India Become Independent on\", end=\" \")\n",
    "d = getDate(\"15\",\"08\",\"1947\")\n",
    "print(d)"
   ]
  },
  {
   "cell_type": "code",
   "execution_count": 14,
   "id": "dccf906b",
   "metadata": {},
   "outputs": [
    {
     "name": "stdout",
     "output_type": "stream",
     "text": [
      "hi\n",
      "Welcom to Ankit Practice HUb\n",
      "Hope you are enjoying\n",
      "Please visit again! Bye\n"
     ]
    }
   ],
   "source": [
    "# Exercise: Understanding Function Ouput\n",
    "def greet_msg():\n",
    "    print(\"hi\")\n",
    "    print(\"Welcom to Ankit Practice HUb\")\n",
    "def exit_msg():\n",
    "    print(\"Please visit again\",end=\"! \")\n",
    "    print(\"Bye\")\n",
    "\n",
    "greet_msg()\n",
    "print(\"Hope you are enjoying\")\n",
    "exit_msg()"
   ]
  },
  {
   "cell_type": "code",
   "execution_count": 16,
   "id": "64cc8786",
   "metadata": {},
   "outputs": [],
   "source": [
    "x = 50\n",
    "def func():\n",
    "    global x\n",
    "    print('x is', x)\n",
    "    x = 2\n",
    "    print('Changed global x to', x)\n",
    "    func()\n",
    "    print('Value of x is', x)"
   ]
  }
 ],
 "metadata": {
  "kernelspec": {
   "display_name": "Python 3",
   "language": "python",
   "name": "python3"
  },
  "language_info": {
   "codemirror_mode": {
    "name": "ipython",
    "version": 3
   },
   "file_extension": ".py",
   "mimetype": "text/x-python",
   "name": "python",
   "nbconvert_exporter": "python",
   "pygments_lexer": "ipython3",
   "version": "3.13.4"
  }
 },
 "nbformat": 4,
 "nbformat_minor": 5
}
