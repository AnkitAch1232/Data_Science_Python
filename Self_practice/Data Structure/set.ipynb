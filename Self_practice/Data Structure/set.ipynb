{
 "cells": [
  {
   "cell_type": "markdown",
   "id": "2139c9a9",
   "metadata": {},
   "source": [
    "Set in Python\n",
    "set are represented by {} (values enclosed in curly braces)"
   ]
  },
  {
   "cell_type": "code",
   "execution_count": 1,
   "id": "f8405844",
   "metadata": {},
   "outputs": [
    {
     "name": "stdout",
     "output_type": "stream",
     "text": [
      "<class 'set'>\n"
     ]
    }
   ],
   "source": [
    "var = {\"Geeks\", \"For\" \"Geeks\"}\n",
    "print(type(var))"
   ]
  },
  {
   "cell_type": "code",
   "execution_count": null,
   "id": "20ddccaa",
   "metadata": {},
   "outputs": [
    {
     "name": "stdout",
     "output_type": "stream",
     "text": [
      "{'c', 'a', 'b'}\n",
      "{'c', 's', 'a', 'b'}\n"
     ]
    }
   ],
   "source": [
    "# Python set() method is used for type casting in Python\n",
    "# typecasting list to set\n",
    "myset = set([\"a\",\"b\",\"c\"])\n",
    "print(myset)\n",
    "\n",
    "#adding element to the set\n",
    "myset.add(\"s\")\n",
    "print(myset)\n"
   ]
  },
  {
   "cell_type": "code",
   "execution_count": null,
   "id": "e033b80d",
   "metadata": {},
   "outputs": [
    {
     "name": "stdout",
     "output_type": "stream",
     "text": [
      "Normal Set\n",
      "{'c', 'a', 'b'}\n",
      "\n",
      "Frozen Set\n",
      "frozenset({'g', 'e', 'f'})\n"
     ]
    },
    {
     "ename": "AttributeError",
     "evalue": "'frozenset' object has no attribute 'add'",
     "output_type": "error",
     "traceback": [
      "\u001b[31m---------------------------------------------------------------------------\u001b[39m",
      "\u001b[31mAttributeError\u001b[39m                            Traceback (most recent call last)",
      "\u001b[36mCell\u001b[39m\u001b[36m \u001b[39m\u001b[32mIn[6]\u001b[39m\u001b[32m, line 18\u001b[39m\n\u001b[32m     15\u001b[39m \u001b[38;5;28mprint\u001b[39m(frozen_set)\n\u001b[32m     17\u001b[39m \u001b[38;5;66;03m# trying to add to frozen set\u001b[39;00m\n\u001b[32m---> \u001b[39m\u001b[32m18\u001b[39m \u001b[43mfrozen_set\u001b[49m\u001b[43m.\u001b[49m\u001b[43madd\u001b[49m(\u001b[33m\"\u001b[39m\u001b[33mh\u001b[39m\u001b[33m\"\u001b[39m)\n",
      "\u001b[31mAttributeError\u001b[39m: 'frozenset' object has no attribute 'add'"
     ]
    }
   ],
   "source": [
    "# python frozen sets\n",
    "#python program to demostrate differences\n",
    "# between normal and frozen set\n",
    "\n",
    "# same as {\"a\",\"b\",\"c\"}\n",
    "normal_set  = set([\"a\",\"b\",\"c\"])\n",
    "\n",
    "print(\"Normal Set\")\n",
    "print(normal_set)\n",
    "\n",
    "# a frozen set\n",
    "frozen_set = frozenset([\"e\",\"f\",\"g\"])\n",
    "\n",
    "print(\"\\nFrozen Set\")\n",
    "print(frozen_set)\n",
    "\n",
    "# trying to add to frozen set\n",
    "frozen_set.add(\"h\")\n",
    "# shows error"
   ]
  },
  {
   "cell_type": "code",
   "execution_count": 11,
   "id": "9aa56b9b",
   "metadata": {},
   "outputs": [
    {
     "name": "stdout",
     "output_type": "stream",
     "text": [
      "People: {'Jay', 'Idrish', 'Archi'}\n",
      "\n",
      "Set after adding element: {'Idrish', 1, 2, 3, 4, 5, 'Jay', 'Ankit', 'Archi'}\n"
     ]
    }
   ],
   "source": [
    "# Creating a set\n",
    "people = {\"Jay\",\"Idrish\",\"Archi\"}\n",
    "\n",
    "print(\"People:\",end=\" \")\n",
    "print(people)\n",
    "\n",
    "# adding to set\n",
    "people.add(\"Ankit\")\n",
    "\n",
    "\n",
    "# adding element to set using iterator\n",
    "for i in range(1,6):\n",
    "    people.add(i)\n",
    "\n",
    "print(\"\\nSet after adding element:\",end=\" \")\n",
    "print(people)"
   ]
  },
  {
   "cell_type": "code",
   "execution_count": 14,
   "id": "3d56a304",
   "metadata": {},
   "outputs": [
    {
     "name": "stdout",
     "output_type": "stream",
     "text": [
      "Union using union() function\n",
      "{'Idrish', 'Karan', 'Arjun', 'Jay', 'Archil'}\n",
      "\n",
      "Union using '|' operator\n",
      "{'Idrish', 'Raju', 'Jay', 'Deepanshu', 'Archil'}\n"
     ]
    }
   ],
   "source": [
    "# Union\n",
    "\n",
    "people = {\"Jay\",\"Idrish\",\"Archil\"}\n",
    "vampires = {\"Karan\",\"Arjun\"}\n",
    "dracula = {\"Deepanshu\",\"Raju\"}\n",
    "\n",
    "population = people.union(vampires)\n",
    "\n",
    "print(\"Union using union() function\")\n",
    "print(population)\n",
    "\n",
    "population = people|dracula\n",
    "\n",
    "print(\"\\nUnion using '|' operator\")\n",
    "print(population)"
   ]
  },
  {
   "cell_type": "code",
   "execution_count": 19,
   "id": "07009484",
   "metadata": {},
   "outputs": [
    {
     "name": "stdout",
     "output_type": "stream",
     "text": [
      "{0, 1, 2, 3, 4}\n",
      "{3, 4, 5, 6, 7, 8}\n",
      "Intersection using Intersection() function\n",
      "{3, 4}\n",
      "\n",
      "Intersection using '&' operator\n",
      "{3, 4}\n"
     ]
    }
   ],
   "source": [
    "set1 = set()\n",
    "set2  = set()\n",
    "\n",
    "for i in range(5):\n",
    "    set1.add(i)\n",
    "print(set1)\n",
    "for i in range(3,9):\n",
    "    set2.add(i)\n",
    "print(set2)\n",
    "set3 = set1.intersection(set2)\n",
    "\n",
    "print(\"Intersection using Intersection() function\")\n",
    "\n",
    "print(set3)\n",
    "\n",
    "set3 = set1 & set2\n",
    "\n",
    "print(\"\\nIntersection using '&' operator\")\n",
    "print(set3)\n"
   ]
  },
  {
   "cell_type": "code",
   "execution_count": 24,
   "id": "a7786dcd",
   "metadata": {},
   "outputs": [
    {
     "name": "stdout",
     "output_type": "stream",
     "text": [
      "{0, 1, 2, 3, 4}\n",
      "Difference of two sets using difference() function\n",
      "{0, 1, 2}\n",
      "\n",
      "Difference of two sets using '-' operator\n",
      "{8, 5, 6, 7}\n"
     ]
    }
   ],
   "source": [
    "# Finding Difference of Sets in Python\n",
    "set1 = set()\n",
    "set2 =set()\n",
    "\n",
    "for i in range(5):\n",
    "    set1.add(i)\n",
    "print(set1)\n",
    "\n",
    "for i in range(3,9):\n",
    "    set2.add(i)\n",
    "\n",
    "set3 = set1.difference(set2)\n",
    "print(\"Difference of two sets using difference() function\")\n",
    "print(set3)\n",
    "\n",
    "\n",
    "set3 = set2- set1\n",
    "print(\"\\nDifference of two sets using '-' operator\")\n",
    "print(set3)"
   ]
  },
  {
   "cell_type": "code",
   "execution_count": 25,
   "id": "0997f0e0",
   "metadata": {},
   "outputs": [
    {
     "name": "stdout",
     "output_type": "stream",
     "text": [
      "Initial set\n",
      "{1, 2, 3, 4, 5, 6}\n",
      "\n",
      "Set after using clear() function\n",
      "set()\n"
     ]
    }
   ],
   "source": [
    "# Clearing Python Sets\n",
    "set1 = {1,2,3,4,5,6}\n",
    "\n",
    "print(\"Initial set\")\n",
    "print(set1)\n",
    "\n",
    "set1.clear()\n",
    "\n",
    "print(\"\\nSet after using clear() function\")\n",
    "print(set1)"
   ]
  },
  {
   "cell_type": "markdown",
   "id": "e58157ce",
   "metadata": {},
   "source": [
    "key in s = containment check\n",
    "key not in s = non-containment check\n",
    "s1 == s2 = s1 is equivalent to s2\n",
    "s1!=s2 = s1 is not equivalent to s2\n",
    "s1<=s2 = s1 is subset of s2\n",
    "s1< s2 = s1 is proper subset of s2\n",
    "s1>= s2 = s1 is superset of s2\n",
    "s1>s2 = s1 is proper superset of s2\n",
    "s1|s2 = the union of s1 and s2\n",
    "s1 & s2 = the intersection of s1 and s2\n",
    "s1 - s2 = the set of elements of s1 but not s2\n",
    "s1^s2 = the set of elements in precisely one of s1 or s2"
   ]
  }
 ],
 "metadata": {
  "kernelspec": {
   "display_name": "Python 3",
   "language": "python",
   "name": "python3"
  },
  "language_info": {
   "codemirror_mode": {
    "name": "ipython",
    "version": 3
   },
   "file_extension": ".py",
   "mimetype": "text/x-python",
   "name": "python",
   "nbconvert_exporter": "python",
   "pygments_lexer": "ipython3",
   "version": "3.13.4"
  }
 },
 "nbformat": 4,
 "nbformat_minor": 5
}
