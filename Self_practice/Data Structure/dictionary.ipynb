{
 "cells": [
  {
   "cell_type": "markdown",
   "id": "998a5774",
   "metadata": {},
   "source": [
    "Dictionary in Python"
   ]
  },
  {
   "cell_type": "code",
   "execution_count": 3,
   "id": "0ccf15da",
   "metadata": {},
   "outputs": [
    {
     "name": "stdout",
     "output_type": "stream",
     "text": [
      "{1: 'Geeks', 2: 'For', 3: 'Geeks'}\n"
     ]
    }
   ],
   "source": [
    "Dict = {1:\"Geeks\",2:\"For\",3:\"Geeks\"}\n",
    "print(Dict)"
   ]
  },
  {
   "cell_type": "code",
   "execution_count": 11,
   "id": "a9a5cc48",
   "metadata": {},
   "outputs": [
    {
     "name": "stdout",
     "output_type": "stream",
     "text": [
      "\n",
      " Dictionary with the help of Integer Key: {1: 'Geeks', 2: 'For', 3: 'Geeks'}\n",
      "\n",
      "Dictionary with the use of Mixed Keys: {'Name': 'Geeks', 1: [1, 2, 3, 4, 5, 6]}\n",
      "3\n"
     ]
    }
   ],
   "source": [
    "# Creating a Dictionary wih integer key\n",
    "Dict = {1: \"Geeks\", 2: \"For\", 3: \"Geeks\"}\n",
    "print(f\"\\n Dictionary with the help of Integer Key: {Dict}\")\n",
    "\n",
    "# Creating a Dictionary with mixed keys\n",
    "Dict = {\"Name\": \"Geeks\",1 : [1,2,3,4,5,6]}\n",
    "print(\"\\nDictionary with the use of Mixed Keys: \",end=\"\")\n",
    "print(Dict)\n",
    "\n",
    "print(Dict[1][2])"
   ]
  },
  {
   "cell_type": "code",
   "execution_count": 15,
   "id": "bb37e9d5",
   "metadata": {},
   "outputs": [
    {
     "name": "stdout",
     "output_type": "stream",
     "text": [
      "Empty Dictionary: \n",
      "{}\n",
      "\n",
      "Dictionary with the use of dict():  {1: 'Geeks', 2: 'For', 3: 'Geeks'}\n",
      "\n",
      " Dictionary with each line as a pair:  {1: 'Geeks', 2: 'For'}\n"
     ]
    }
   ],
   "source": [
    "# Creating a empty Dictionary\n",
    "Dict = {}\n",
    "print(\"Empty Dictionary: \")\n",
    "print(Dict)\n",
    "\n",
    "Dict = dict({1: 'Geeks',2:'For',3:'Geeks'})\n",
    "print(\"\\nDictionary with the use of dict(): \",Dict)\n",
    "\n",
    "Dict = dict([(1,'Geeks'),(2,'For')])\n",
    "print(\"\\n Dictionary with each line as a pair: \",Dict)"
   ]
  },
  {
   "cell_type": "code",
   "execution_count": 22,
   "id": "dd4d91bb",
   "metadata": {},
   "outputs": [
    {
     "name": "stdout",
     "output_type": "stream",
     "text": [
      "{1: 'Geeks', 2: 'For', 3: {'A': 'Welcome', 'B': 'To', 'C': 'Geeks'}}\n",
      "{'A': 'Welcome', 'B': 'To', 'C': 'Geeks'}\n",
      "Welcome To Geeks \n",
      "Welcome To Geeks "
     ]
    }
   ],
   "source": [
    "#Creating a Nested Dictionary\n",
    "Dict = {1:\"Geeks\",2:'For',\n",
    "        3: {'A':'Welcome','B':'To','C':'Geeks'}}\n",
    "\n",
    "print(Dict)\n",
    "\n",
    "print(Dict[3])\n",
    "\n",
    "for value in Dict[3].values():\n",
    "    print(value,end=\" \")\n",
    "print()\n",
    "\n",
    "for i in ['A','B','C']:\n",
    "    print(Dict[3][i],end = \" \")"
   ]
  },
  {
   "cell_type": "code",
   "execution_count": 26,
   "id": "70d50d3f",
   "metadata": {},
   "outputs": [
    {
     "name": "stdout",
     "output_type": "stream",
     "text": [
      "Empty Dictionary: \n",
      "{}\n",
      "nDictionary after adding 3 elemets: {0: 'Geeks', 1: 'For', 3: 1}\n",
      "\n",
      "Updated key Value: \n",
      "{0: 'Geeks', 1: 'For', 3: 1, 2: 'Welcome'}\n",
      "\n",
      "Adding a Nested Key: \n",
      "{0: 'Geeks', 1: 'For', 3: 1, 2: 'Welcome', 5: {'Nested': {'1': 'Life', '2': 'Geeks'}}}\n"
     ]
    }
   ],
   "source": [
    "# Adding elemensts to a Dictionary\n",
    "\n",
    "# Creating an empty Dictionary\n",
    "Dict = {}\n",
    "print(\"Empty Dictionary: \")\n",
    "print(Dict)\n",
    "\n",
    "Dict[0] = 'Geeks'\n",
    "Dict[1] = 'For'\n",
    "Dict[3] = 1\n",
    "print(f\"nDictionary after adding 3 elemets: {Dict}\")\n",
    "\n",
    "Dict[2] = 'Welcome'\n",
    "print(\"\\nUpdated key Value: \")\n",
    "print(Dict)\n",
    "\n",
    "Dict[5] = {'Nested': {'1':'Life','2':'Geeks'}}\n",
    "print(\"\\nAdding a Nested Key: \")\n",
    "print(Dict)"
   ]
  },
  {
   "cell_type": "code",
   "execution_count": 28,
   "id": "1b755044",
   "metadata": {},
   "outputs": [
    {
     "name": "stdout",
     "output_type": "stream",
     "text": [
      "Accessing a element using key:\n",
      "For\n",
      "Accessing a element using key: \n",
      "Geeks\n"
     ]
    }
   ],
   "source": [
    "# Accessing elements of a Dictionary\n",
    "Dict = {1:'Geeks','name':'For',3:'Geeks'}\n",
    "\n",
    "print(\"Accessing a element using key:\")\n",
    "print(Dict['name'])\n",
    "\n",
    "\n",
    "print(\"Accessing a element using key: \")\n",
    "print(Dict[1])"
   ]
  },
  {
   "cell_type": "code",
   "execution_count": null,
   "id": "18b17ddb",
   "metadata": {},
   "outputs": [
    {
     "name": "stdout",
     "output_type": "stream",
     "text": [
      "Accessing a element using get: \n",
      "Geeks\n"
     ]
    }
   ],
   "source": [
    "# get() method\n",
    "\n",
    "Dict = {1:'Geeks','name':'For',3:'Geeks'}\n",
    "\n",
    "print(\"Accessing a element using get: \")\n",
    "print(Dict.get(3))\n"
   ]
  },
  {
   "cell_type": "code",
   "execution_count": 34,
   "id": "7086079c",
   "metadata": {},
   "outputs": [
    {
     "name": "stdout",
     "output_type": "stream",
     "text": [
      "{1: 'Geeks'}\n",
      "{'Name': 'For'}\n",
      "Geeks\n",
      "For\n"
     ]
    }
   ],
   "source": [
    "# Accessing an element of a nested dictionary\n",
    "\n",
    "Dict = {'Dcit1': {1: 'Geeks'},\n",
    "        'Dict2': {'Name':'For'}}\n",
    "\n",
    "\n",
    "print(Dict['Dcit1'])\n",
    "print(Dict['Dict2'])\n",
    "print(Dict['Dcit1'][1])\n",
    "print(Dict['Dict2']['Name'])"
   ]
  },
  {
   "cell_type": "markdown",
   "id": "fff61d14",
   "metadata": {},
   "source": [
    "Dictionary methods\n",
    "clear() - Remove all the elements from the dictionary\n",
    "copy() - Returns a copy of the dictionary\n",
    "get() - Returns the value of specified key\n",
    "item() - Returns a list containing a tuple for each key value pair\n",
    "key() - Returns a list containing dictionary's keys\n",
    "pop() - Remove the elements with specified key\n",
    "popitem() - Removes the last inserted key - value pair\n",
    "update() - Updates dictionary with specified key - value pairs\n",
    "values() - Returns a list of all the values of dictionary"
   ]
  },
  {
   "cell_type": "code",
   "execution_count": 35,
   "id": "1c1063aa",
   "metadata": {},
   "outputs": [
    {
     "name": "stdout",
     "output_type": "stream",
     "text": [
      "{1: 'Python', 2: 'Java', 3: 'Ruby', 4: 'Scala'}\n",
      "{}\n",
      "Python\n",
      "dict_items([(1, 'Python'), (2, 'Java'), (3, 'Ruby'), (4, 'Scala')])\n",
      "dict_keys([1, 2, 3, 4])\n",
      "{1: 'Python', 2: 'Java', 3: 'Ruby'}\n",
      "{1: 'Python', 2: 'Java'}\n",
      "{1: 'Python', 2: 'Java', 3: 'Scala'}\n"
     ]
    }
   ],
   "source": [
    " #demo for all dictionary methods\n",
    "dict1 = {1: \"Python\", 2: \"Java\", 3: \"Ruby\", 4: \"Scala\"}\n",
    "  \n",
    "# copy() method\n",
    "dict2 = dict1.copy()\n",
    "print(dict2)\n",
    "  \n",
    "# clear() method\n",
    "dict1.clear()\n",
    "print(dict1)\n",
    "  \n",
    "# get() method\n",
    "print(dict2.get(1))\n",
    "  \n",
    "# items() method\n",
    "print(dict2.items())\n",
    "  \n",
    "# keys() method\n",
    "print(dict2.keys())\n",
    "  \n",
    "# pop() method\n",
    "dict2.pop(4)\n",
    "print(dict2)\n",
    "  \n",
    "# popitem() method\n",
    "dict2.popitem()\n",
    "print(dict2)\n",
    "  \n",
    "# update() method\n",
    "dict2.update({3: \"Scala\"})\n",
    "print(dict2)\n",
    "  "
   ]
  }
 ],
 "metadata": {
  "kernelspec": {
   "display_name": "Python 3",
   "language": "python",
   "name": "python3"
  },
  "language_info": {
   "codemirror_mode": {
    "name": "ipython",
    "version": 3
   },
   "file_extension": ".py",
   "mimetype": "text/x-python",
   "name": "python",
   "nbconvert_exporter": "python",
   "pygments_lexer": "ipython3",
   "version": "3.13.4"
  }
 },
 "nbformat": 4,
 "nbformat_minor": 5
}
