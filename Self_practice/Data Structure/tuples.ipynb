{
 "cells": [
  {
   "cell_type": "markdown",
   "id": "c5152f3e",
   "metadata": {},
   "source": [
    "Tuples in Python"
   ]
  },
  {
   "cell_type": "code",
   "execution_count": 1,
   "id": "12837fb1",
   "metadata": {},
   "outputs": [
    {
     "name": "stdout",
     "output_type": "stream",
     "text": [
      "('Geeks', 'for', 'Geeks')\n"
     ]
    }
   ],
   "source": [
    "# Creating Python Tuples\n",
    "var = (\"Geeks\",\"for\",\"Geeks\")\n",
    "print(var)"
   ]
  },
  {
   "cell_type": "code",
   "execution_count": 3,
   "id": "2eb1eccf",
   "metadata": {},
   "outputs": [
    {
     "name": "stdout",
     "output_type": "stream",
     "text": [
      "Values in var[0] = geeks\n",
      "Values in Var[1] = for\n",
      "Values in Var[2] = geeks\n"
     ]
    }
   ],
   "source": [
    "# Accessing Values in Python Tuples\n",
    "# Method 1 : Using Positive Index\n",
    "var = (\"geeks\",\"for\",\"geeks\")\n",
    "\n",
    "print(\"Values in var[0] =\", var[0])\n",
    "print(\"Values in Var[1] =\",var[1])\n",
    "print(\"Values in Var[2] =\", var[2])"
   ]
  },
  {
   "cell_type": "code",
   "execution_count": 5,
   "id": "9d08e910",
   "metadata": {},
   "outputs": [
    {
     "name": "stdout",
     "output_type": "stream",
     "text": [
      "Values in Var[-3] =  Geeks\n",
      "Values in Var[-2] =  for\n",
      "Values in Var[-1] =  Geeks\n"
     ]
    }
   ],
   "source": [
    "# Method 2 : Using Negative Index\n",
    "\n",
    "var = (\"Geeks\", \"for\",\"Geeks\")\n",
    "\n",
    "print(\"Values in Var[-3] = \",var[-3])\n",
    "print(\"Values in Var[-2] = \",var[-2])\n",
    "print(\"Values in Var[-1] = \",var[-1])"
   ]
  },
  {
   "cell_type": "code",
   "execution_count": 3,
   "id": "f2b02ebf",
   "metadata": {},
   "outputs": [
    {
     "name": "stdout",
     "output_type": "stream",
     "text": [
      "(0,)\n",
      "(1, 2, 3)\n",
      "(3, 2, 1, 0)\n",
      "(2, 3)\n"
     ]
    }
   ],
   "source": [
    "# Slicing Python Tuples\n",
    "tuple1 = (0,1,2,3)\n",
    "\n",
    "print(tuple1[0:1])\n",
    "print(tuple1[1:])\n",
    "print(tuple1[::-1])\n",
    "print(tuple1[2:4])\n"
   ]
  },
  {
   "cell_type": "code",
   "execution_count": 5,
   "id": "d4008d03",
   "metadata": {},
   "outputs": [
    {
     "name": "stdout",
     "output_type": "stream",
     "text": [
      "2\n"
     ]
    }
   ],
   "source": [
    "# Finding Length of a Tuple\n",
    "\n",
    "tuple2 = ('python','geek')\n",
    "print(len(tuple2))"
   ]
  }
 ],
 "metadata": {
  "kernelspec": {
   "display_name": "Python 3",
   "language": "python",
   "name": "python3"
  },
  "language_info": {
   "codemirror_mode": {
    "name": "ipython",
    "version": 3
   },
   "file_extension": ".py",
   "mimetype": "text/x-python",
   "name": "python",
   "nbconvert_exporter": "python",
   "pygments_lexer": "ipython3",
   "version": "3.13.4"
  }
 },
 "nbformat": 4,
 "nbformat_minor": 5
}
