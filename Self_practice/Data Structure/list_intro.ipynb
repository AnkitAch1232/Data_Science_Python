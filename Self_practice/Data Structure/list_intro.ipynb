{
 "cells": [
  {
   "cell_type": "markdown",
   "id": "2c02cb0e",
   "metadata": {},
   "source": [
    "List Introduction"
   ]
  },
  {
   "cell_type": "code",
   "execution_count": 1,
   "id": "2547ec88",
   "metadata": {},
   "outputs": [
    {
     "name": "stdout",
     "output_type": "stream",
     "text": [
      "['Geeks', 'for', 'Geeks']\n"
     ]
    }
   ],
   "source": [
    "# Example of a List in Python\n",
    "a =[\"Geeks\",\"for\",\"Geeks\"]\n",
    "print(a)"
   ]
  },
  {
   "cell_type": "code",
   "execution_count": null,
   "id": "1975ff83",
   "metadata": {},
   "outputs": [
    {
     "name": "stdout",
     "output_type": "stream",
     "text": [
      "Blank List: \n",
      "[]\n",
      "\n",
      "List of numbers: \n",
      "[10, 20, 14]\n",
      "\n",
      "List Items: \n",
      "Geeks\n",
      "Geeks\n"
     ]
    }
   ],
   "source": [
    "# Creating a List in Python\n",
    "List = []\n",
    "print(\"Blank List: \")\n",
    "print(List)\n",
    "\n",
    "List = [10,20,14]\n",
    "print(\"\\nList of numbers: \")\n",
    "print(List)\n",
    "\n",
    "List = [\"Geeks\",\"For\",\"Geeks\"]\n",
    "print(\"\\nList Items: \")\n",
    "print(List[0])\n",
    "print(List[2])"
   ]
  },
  {
   "cell_type": "code",
   "execution_count": 5,
   "id": "bda318b9",
   "metadata": {},
   "outputs": [
    {
     "name": "stdout",
     "output_type": "stream",
     "text": [
      "Accessing a element from the list\n",
      "Geeks\n",
      "Geeks\n"
     ]
    }
   ],
   "source": [
    "# Accessing Elements from thw List\n",
    "List = [\"Geeks\",\"For\",\"Geeks\"]\n",
    "print(\"Accessing a element from the list\")\n",
    "print(List[0])\n",
    "print(List[2])"
   ]
  },
  {
   "cell_type": "code",
   "execution_count": 7,
   "id": "18d3813f",
   "metadata": {},
   "outputs": [
    {
     "name": "stdout",
     "output_type": "stream",
     "text": [
      "Accessing a element from a Multi-Dimensional list\n",
      "For\n",
      "Geeks\n"
     ]
    }
   ],
   "source": [
    "# Accessing ELements from a Multi-Dimensional List\n",
    "List = [['Geeks','For'],['Geeks']]\n",
    "print(\"Accessing a element from a Multi-Dimensional list\")\n",
    "print(List[0][1])\n",
    "print(List[1][0])"
   ]
  },
  {
   "cell_type": "code",
   "execution_count": 9,
   "id": "ca77fd26",
   "metadata": {},
   "outputs": [
    {
     "name": "stdout",
     "output_type": "stream",
     "text": [
      "Accessing element using negative indexing\n",
      "['Geeks', 4, 'for', 6]\n",
      "for\n"
     ]
    }
   ],
   "source": [
    "# Negative Indexing\n",
    "List = [1,2,'Geeks',4,'for',6,'Geeks']\n",
    "print(\"Accessing element using negative indexing\")\n",
    "print(List[2:-1])\n",
    "print(List[-3])"
   ]
  },
  {
   "cell_type": "code",
   "execution_count": 10,
   "id": "9134f50b",
   "metadata": {},
   "outputs": [
    {
     "name": "stdout",
     "output_type": "stream",
     "text": [
      "0\n",
      "3\n"
     ]
    }
   ],
   "source": [
    "# Getting the Size of the Python List\n",
    "List1 =[]\n",
    "print(len(List1))\n",
    "\n",
    "List2 = [10,20,40]\n",
    "print(len(List2))"
   ]
  },
  {
   "cell_type": "code",
   "execution_count": 16,
   "id": "afb583e9",
   "metadata": {},
   "outputs": [
    {
     "name": "stdout",
     "output_type": "stream",
     "text": [
      "Initial blank List: \n",
      "[]\n",
      "\n",
      "List after Addition of three elements: \n",
      "[1, 9, 6]\n",
      "\n",
      "List After Addition of elements from 1 to 3: \n",
      "[1, 9, 6, 1, 2, 3]\n",
      "\n",
      "List after Addition of a tuple: \n",
      "[1, 9, 6, 1, 2, 3, (5, 6)]\n",
      "\n",
      "List after addition of a List: \n",
      "[1, 9, 6, 1, 2, 3, (5, 6), ['for', 'geeks']]\n"
     ]
    }
   ],
   "source": [
    "#Adding Elements to a Python list\n",
    "\n",
    "List =[]\n",
    "print(\"Initial blank List: \")\n",
    "print(List)\n",
    "\n",
    "List.append(1)\n",
    "List.append(9)\n",
    "List.append(6)\n",
    "print(\"\\nList after Addition of three elements: \")\n",
    "print(List)\n",
    "\n",
    "for i in range(1,4):\n",
    "    List.append(i)\n",
    "print(\"\\nList After Addition of elements from 1 to 3: \")\n",
    "print(List)\n",
    "\n",
    "\n",
    "List.append((5,6))\n",
    "print(\"\\nList after Addition of a tuple: \")\n",
    "print(List)\n",
    "\n",
    "List2 = ['for','geeks']\n",
    "List.append(List2)\n",
    "print(\"\\nList after addition of a List: \")\n",
    "print(List)\n",
    "\n"
   ]
  },
  {
   "cell_type": "code",
   "execution_count": 19,
   "id": "d3f01756",
   "metadata": {},
   "outputs": [
    {
     "name": "stdout",
     "output_type": "stream",
     "text": [
      "['geeks', 'for', 'Geeks']\n"
     ]
    }
   ],
   "source": [
    "# Using insert() method:\n",
    "\n",
    "lis=['geeks','Geeks']\n",
    "lis.insert(1,\"for\")\n",
    "print(lis)"
   ]
  },
  {
   "cell_type": "code",
   "execution_count": 21,
   "id": "452eaef5",
   "metadata": {},
   "outputs": [
    {
     "name": "stdout",
     "output_type": "stream",
     "text": [
      "[1, 2, 3, 4, 10, 5, 6, 7]\n"
     ]
    }
   ],
   "source": [
    "list1 = [1,2,3,4,5,6,7]\n",
    "list1.insert(4,10) #(position, value)\n",
    "print(list1)"
   ]
  },
  {
   "cell_type": "code",
   "execution_count": 28,
   "id": "627925b5",
   "metadata": {},
   "outputs": [
    {
     "name": "stdout",
     "output_type": "stream",
     "text": [
      "['A', 'n', 'k', 'i', 't', ' ', 'A', 'c', 'h', 'a', 'r', 'y', 'a']\n",
      "['A', 'n', 'k', 'i', 't', 'A', 'c', 'h', 'a', 'r', 'y', 'a']\n",
      "2\n"
     ]
    }
   ],
   "source": [
    "# count() method\n",
    "string= \"Ankit Acharya\"\n",
    "lis = list(string)\n",
    "print(lis)\n",
    "lis.remove(' ')\n",
    "print(lis)\n",
    "print(lis.count('a'))"
   ]
  },
  {
   "cell_type": "code",
   "execution_count": null,
   "id": "d7560ac6",
   "metadata": {},
   "outputs": [
    {
     "name": "stdout",
     "output_type": "stream",
     "text": [
      "[1, 2, 4, 5, 6, 7, 8, 9]\n",
      "[1, 2, 4, 5, 6, 7, 8]\n",
      "[2, 4, 5, 6, 7, 8]\n"
     ]
    }
   ],
   "source": [
    "# del keyword\n",
    "# del list_name[index]\n",
    "numbers = [1,2,3,4,5,6,7,8,9]\n",
    "del numbers[2]\n",
    "print(numbers)\n",
    "\n",
    "del numbers[-1]\n",
    "print(numbers)\n",
    "\n",
    "del numbers[0]\n",
    "print(numbers)"
   ]
  },
  {
   "cell_type": "code",
   "execution_count": null,
   "id": "d195787f",
   "metadata": {},
   "outputs": [
    {
     "name": "stdout",
     "output_type": "stream",
     "text": [
      "[1, 2, 4, 5, 3, 2, 12, 12]\n",
      "[1, 4, 5, 3, 2, 12, 12]\n",
      "[1, 4, 3, 2, 12, 12]\n"
     ]
    }
   ],
   "source": [
    "# remove() method\n",
    "# list_name.remove(value)\n",
    "numbers = [1,2,3,4,5,3,2,12,12]\n",
    "numbers.remove(3)\n",
    "print(numbers)\n",
    "\n",
    "numbers.remove(2)\n",
    "print(numbers)\n",
    "\n",
    "numbers.remove(5)\n",
    "print(numbers)"
   ]
  },
  {
   "cell_type": "code",
   "execution_count": 39,
   "id": "2f1a0513",
   "metadata": {},
   "outputs": [
    {
     "name": "stdout",
     "output_type": "stream",
     "text": [
      "[1, 2, 3, 5, 2, 3, 1]\n",
      "[1, 2, 3, 5, 2, 3]\n",
      "[2, 3, 5, 2, 3]\n"
     ]
    }
   ],
   "source": [
    "# pop() method\n",
    "# list_name.pop(index)\n",
    "numbers= [1,2,3,4,5,2,3,1]\n",
    "numbers.pop(3)\n",
    "print(numbers)\n",
    "\n",
    "numbers.pop(-1)\n",
    "print(numbers)\n",
    "\n",
    "numbers.pop(0)\n",
    "print(numbers)\n"
   ]
  },
  {
   "cell_type": "code",
   "execution_count": null,
   "id": "9bd4bcd5",
   "metadata": {},
   "outputs": [
    {
     "name": "stdout",
     "output_type": "stream",
     "text": [
      "Maximum of 4,12,43.3,19, and 100 is:100\n"
     ]
    }
   ],
   "source": [
    "# max() method\n",
    "print(\"Maximum of 4,12,43.3,19, and 100 is: \",end=\"\")\n",
    "print(max(4,12,43.3,19,100))"
   ]
  },
  {
   "cell_type": "code",
   "execution_count": 41,
   "id": "66dda907",
   "metadata": {},
   "outputs": [
    {
     "name": "stdout",
     "output_type": "stream",
     "text": [
      "Maximum of 4,12,43.3,19, and 100 is: 4\n"
     ]
    }
   ],
   "source": [
    "# min() method\n",
    "print(\"Maximum of 4,12,43.3,19, and 100 is: \",end=\"\")\n",
    "print(min(4,12,43.3,19,100))"
   ]
  },
  {
   "cell_type": "code",
   "execution_count": 42,
   "id": "b3470527",
   "metadata": {},
   "outputs": [
    {
     "name": "stdout",
     "output_type": "stream",
     "text": [
      "[1, 2, 3, 4]\n"
     ]
    }
   ],
   "source": [
    "# sort() method\n",
    "numbers = [1,3,4,2]\n",
    "numbers.sort()\n",
    "print(numbers)"
   ]
  },
  {
   "cell_type": "code",
   "execution_count": 43,
   "id": "2a7b40dd",
   "metadata": {},
   "outputs": [
    {
     "name": "stdout",
     "output_type": "stream",
     "text": [
      "[6, 2, 1, 4, 3, 2, 1]\n",
      "['a', 'a', 'd', 'c', 'b', 'a']\n"
     ]
    }
   ],
   "source": [
    "# reverse() method\n",
    "list1 = [1,2,3,4,1,2,6]\n",
    "list1.reverse()\n",
    "print(list1)\n",
    "\n",
    "list2 = ['a','b','c','d','a','a']\n",
    "list2.reverse()\n",
    "print(list2)"
   ]
  }
 ],
 "metadata": {
  "kernelspec": {
   "display_name": "Python 3",
   "language": "python",
   "name": "python3"
  },
  "language_info": {
   "codemirror_mode": {
    "name": "ipython",
    "version": 3
   },
   "file_extension": ".py",
   "mimetype": "text/x-python",
   "name": "python",
   "nbconvert_exporter": "python",
   "pygments_lexer": "ipython3",
   "version": "3.13.4"
  }
 },
 "nbformat": 4,
 "nbformat_minor": 5
}
