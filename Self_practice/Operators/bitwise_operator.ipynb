{
 "cells": [
  {
   "cell_type": "markdown",
   "id": "69e5b5a6",
   "metadata": {},
   "source": [
    "Python Bitwise Operators\n"
   ]
  },
  {
   "cell_type": "code",
   "execution_count": 4,
   "id": "8be0f99f",
   "metadata": {},
   "outputs": [
    {
     "name": "stdout",
     "output_type": "stream",
     "text": [
      "a&b =  0\n",
      "a|b =  14\n",
      "~a =  -11\n",
      "a^b =  14\n"
     ]
    }
   ],
   "source": [
    "a = 10\n",
    "b= 4\n",
    "print(\"a&b = \",a&b)\n",
    "\n",
    "print(\"a|b = \",a|b)\n",
    "print(\"~a = \",~a)\n",
    "print(\"a^b = \",a^b)\n"
   ]
  },
  {
   "cell_type": "markdown",
   "id": "d84c55b5",
   "metadata": {},
   "source": [
    "Shift Operators"
   ]
  },
  {
   "cell_type": "code",
   "execution_count": 9,
   "id": "98e15609",
   "metadata": {},
   "outputs": [
    {
     "name": "stdout",
     "output_type": "stream",
     "text": [
      "a>>1 = 5\n",
      "b>>1 = -5\n",
      "a<<1 = 20\n",
      "b<<1 = -20\n"
     ]
    }
   ],
   "source": [
    "a = 10\n",
    "b= -10\n",
    "\n",
    "#Right shift\n",
    "print(\"a>>1 =\",a>>1)\n",
    "print(\"b>>1 =\",b>>1)\n",
    "\n",
    "#Left shift\n",
    "print(\"a<<1 =\",a<<1)\n",
    "print(\"b<<1 =\",b<<1)"
   ]
  },
  {
   "cell_type": "code",
   "execution_count": 3,
   "id": "03d4ce67",
   "metadata": {},
   "outputs": [
    {
     "name": "stdout",
     "output_type": "stream",
     "text": [
      "And operator overloaded\n",
      "8\n",
      "Or operator overloaded\n",
      "14\n",
      "Xor operator overloaded\n",
      "6\n",
      "lshift operator overloaded\n",
      "40960\n",
      "rshift operator overloaded\n",
      "0\n",
      "Invert operator overloaded\n",
      "-11\n"
     ]
    }
   ],
   "source": [
    "# Bitwise Operator Overloading\n",
    "\n",
    "class Ankit():\n",
    "    def __init__(self,value):\n",
    "        self.value = value\n",
    "\n",
    "    def __and__(self, obj):\n",
    "       print(\"And operator overloaded\")\n",
    "       if isinstance(obj, Ankit):\n",
    "           return self.value & obj.value\n",
    "       else:\n",
    "           raise ValueError(\"Must be a object of class Ankit\")\n",
    "\n",
    "    def __or__(self, obj):\n",
    "        print(\"Or operator overloaded\")\n",
    "        if isinstance(obj,Ankit):\n",
    "            return self.value | obj.value\n",
    "        else:\n",
    "            raise ValueError(\"Must be a object of class Ankit\")\n",
    "        \n",
    "    def __xor__(self, obj):\n",
    "        print(\"Xor operator overloaded\")\n",
    "        if isinstance(obj, Ankit):\n",
    "            return self.value ^ obj.value\n",
    "        else:\n",
    "            raise ValueError(\"Must be a object of class Ankit\")\n",
    "    \n",
    "    def __lshift__(self,obj):\n",
    "        print(\"lshift operator overloaded\")\n",
    "        if isinstance(obj,Ankit):\n",
    "            return self.value << obj.value\n",
    "        else:\n",
    "            raise ValueError(\"Must be a object of class Ankit\")\n",
    "        \n",
    "    def __rshift__(self,obj):\n",
    "        print(\"rshift operator overloaded\")\n",
    "        if isinstance(obj,Ankit):\n",
    "            return self.value >> obj.value\n",
    "        else:\n",
    "            raise ValueError(\"Must be a object of class Geek\")\n",
    "        \n",
    "    def __invert__(self):\n",
    "        print(\"Invert operator overloaded\")\n",
    "        return ~self.value\n",
    "    \n",
    "\n",
    "if __name__ == \"__main__\":\n",
    "    a = Ankit(10)\n",
    "    b = Ankit(12)\n",
    "    print(a & b)\n",
    "    print(a | b)\n",
    "    print(a ^ b)\n",
    "    print(a << b)\n",
    "    print(a >> b)\n",
    "    print(~a)\n",
    "\n",
    "\n"
   ]
  },
  {
   "cell_type": "markdown",
   "id": "22d7e201",
   "metadata": {},
   "source": []
  },
  {
   "cell_type": "code",
   "execution_count": 7,
   "id": "fece4023",
   "metadata": {},
   "outputs": [
    {
     "name": "stdout",
     "output_type": "stream",
     "text": [
      "2\n"
     ]
    }
   ],
   "source": [
    "print(~(~2))"
   ]
  }
 ],
 "metadata": {
  "kernelspec": {
   "display_name": "Python 3",
   "language": "python",
   "name": "python3"
  },
  "language_info": {
   "codemirror_mode": {
    "name": "ipython",
    "version": 3
   },
   "file_extension": ".py",
   "mimetype": "text/x-python",
   "name": "python",
   "nbconvert_exporter": "python",
   "pygments_lexer": "ipython3",
   "version": "3.13.4"
  }
 },
 "nbformat": 4,
 "nbformat_minor": 5
}
