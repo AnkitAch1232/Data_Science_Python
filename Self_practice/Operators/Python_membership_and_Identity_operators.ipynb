{
 "cells": [
  {
   "cell_type": "markdown",
   "id": "6124985f",
   "metadata": {},
   "source": [
    "Python Membership and Identity Operators"
   ]
  },
  {
   "cell_type": "code",
   "execution_count": null,
   "id": "48032dca",
   "metadata": {},
   "outputs": [
    {
     "name": "stdout",
     "output_type": "stream",
     "text": [
      "1\n",
      "not overlapping\n",
      "2\n",
      "not overlapping\n",
      "3\n",
      "not overlapping\n",
      "4\n",
      "not overlapping\n",
      "5\n",
      "not overlapping\n"
     ]
    }
   ],
   "source": [
    "# Membership Operators\n",
    "a = [1,2,3,4,5]\n",
    "b=[6,7,8,9]\n",
    "for item in a:\n",
    "    print(item)\n",
    "    if item in b:\n",
    "        print(\"overlapping\")\n",
    "    else:\n",
    "        print(\"not overlapping\")"
   ]
  },
  {
   "cell_type": "code",
   "execution_count": 11,
   "id": "31b6440d",
   "metadata": {},
   "outputs": [
    {
     "name": "stdout",
     "output_type": "stream",
     "text": [
      "overlapping\n"
     ]
    }
   ],
   "source": [
    "def overlapping(a,b):\n",
    "    for i in range(0,len(a)):\n",
    "        for j in range(0,len(b)):\n",
    "            if(a[i]==b[j]):\n",
    "                return 1\n",
    "    return 0  \n",
    "\n",
    "a= [1,2,3,4,5]\n",
    "b= [6,7,8,9,5]\n",
    "if(overlapping(a,b)):\n",
    "    print(\"overlapping\")\n",
    "else:\n",
    "    print(\"not overlapping\")"
   ]
  },
  {
   "cell_type": "code",
   "execution_count": 16,
   "id": "4b782520",
   "metadata": {},
   "outputs": [
    {
     "name": "stdout",
     "output_type": "stream",
     "text": [
      "24 is not present in list\n",
      "20 is present in given list\n"
     ]
    }
   ],
   "source": [
    "# not in operator\n",
    "x=24\n",
    "y=20\n",
    "list =[10,20,30,40]\n",
    "\n",
    "if x not in list:\n",
    "    print(f\"{x} is not present in list\")\n",
    "else:\n",
    "    print(f\"{x} is present in list\")\n",
    "\n",
    "if y in list:\n",
    "    print(f\"{y} is present in given list\")\n",
    "else:\n",
    "    print(f\"{y} is not present in given list\")"
   ]
  },
  {
   "cell_type": "code",
   "execution_count": 20,
   "id": "07e030fb",
   "metadata": {},
   "outputs": [
    {
     "name": "stdout",
     "output_type": "stream",
     "text": [
      "True\n",
      "Variable      Type        Data/Info\n",
      "-----------------------------------\n",
      "a             list        n=5\n",
      "b             list        n=5\n",
      "item          int         5\n",
      "list          list        n=4\n",
      "overlapping   function    <function overlapping at 0x00000255646114E0>\n",
      "x             int         5\n",
      "y             int         5\n"
     ]
    }
   ],
   "source": [
    "# Identity Operators\n",
    "x = 5\n",
    "y = 5\n",
    "print(x is y)\n",
    "id(x)\n",
    "id(y)\n",
    "%whos"
   ]
  },
  {
   "cell_type": "code",
   "execution_count": 21,
   "id": "eb179dc5",
   "metadata": {},
   "outputs": [
    {
     "name": "stdout",
     "output_type": "stream",
     "text": [
      "False\n",
      "true\n"
     ]
    }
   ],
   "source": [
    "# is not operator\n",
    "x = 5\n",
    "if(type(x) is not int):\n",
    "    print(\"true\")\n",
    "else:\n",
    "    print(\"False\")\n",
    "\n",
    "x= 5.6\n",
    "if(type(x)is not int):\n",
    "    print(\"true\")\n",
    "else:\n",
    "    print(\"False\")\n"
   ]
  }
 ],
 "metadata": {
  "kernelspec": {
   "display_name": "Python 3",
   "language": "python",
   "name": "python3"
  },
  "language_info": {
   "codemirror_mode": {
    "name": "ipython",
    "version": 3
   },
   "file_extension": ".py",
   "mimetype": "text/x-python",
   "name": "python",
   "nbconvert_exporter": "python",
   "pygments_lexer": "ipython3",
   "version": "3.13.4"
  }
 },
 "nbformat": 4,
 "nbformat_minor": 5
}
