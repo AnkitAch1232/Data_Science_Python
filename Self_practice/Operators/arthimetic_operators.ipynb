{
 "cells": [
  {
   "cell_type": "markdown",
   "id": "8f7a473b",
   "metadata": {},
   "source": [
    "Arthimetic Operators"
   ]
  },
  {
   "cell_type": "markdown",
   "id": "7fadbd5c",
   "metadata": {},
   "source": [
    "Types of Operators\n",
    "1. Addition\n",
    "2. Substraction\n",
    "3. Multiplication\n",
    "4. Division\n",
    "5. Modulus\n",
    "6. Exponentiation\n",
    "7. Floor Division"
   ]
  },
  {
   "cell_type": "code",
   "execution_count": 1,
   "id": "827ba4f9",
   "metadata": {},
   "outputs": [
    {
     "name": "stdout",
     "output_type": "stream",
     "text": [
      "5\n"
     ]
    }
   ],
   "source": [
    "#1. Addition Operator\n",
    "a= 2\n",
    "b= 3\n",
    "\n",
    "res= a+b\n",
    "print(res)\n"
   ]
  },
  {
   "cell_type": "code",
   "execution_count": 2,
   "id": "f1828b7e",
   "metadata": {},
   "outputs": [
    {
     "name": "stdout",
     "output_type": "stream",
     "text": [
      "-1\n"
     ]
    }
   ],
   "source": [
    "#2. Substraction Operator\n",
    "a = 2\n",
    "b = 3\n",
    "\n",
    "res = a-b\n",
    "print(res)\n"
   ]
  },
  {
   "cell_type": "code",
   "execution_count": 3,
   "id": "df763bae",
   "metadata": {},
   "outputs": [
    {
     "name": "stdout",
     "output_type": "stream",
     "text": [
      "6\n"
     ]
    }
   ],
   "source": [
    "#3. Multiplication Operator\n",
    "a = 2\n",
    "b = 3\n",
    "res = a*b\n",
    "print(res)"
   ]
  },
  {
   "cell_type": "code",
   "execution_count": 4,
   "id": "b66a6483",
   "metadata": {},
   "outputs": [
    {
     "name": "stdout",
     "output_type": "stream",
     "text": [
      "1.5\n"
     ]
    }
   ],
   "source": [
    "#4. Division Operator\n",
    "a = 3\n",
    "b = 2\n",
    "res = a/b\n",
    "print(res)"
   ]
  },
  {
   "cell_type": "code",
   "execution_count": 5,
   "id": "ad4b4f50",
   "metadata": {},
   "outputs": [
    {
     "name": "stdout",
     "output_type": "stream",
     "text": [
      "1\n"
     ]
    }
   ],
   "source": [
    "#5. Modulus Operator\n",
    "a = 3\n",
    "b = 2\n",
    "res = a%b\n",
    "print(res)"
   ]
  },
  {
   "cell_type": "code",
   "execution_count": 6,
   "id": "d4a72fa1",
   "metadata": {},
   "outputs": [
    {
     "name": "stdout",
     "output_type": "stream",
     "text": [
      "8\n"
     ]
    }
   ],
   "source": [
    "#6. Exponentiation Operator\n",
    "a = 2\n",
    "b = 3\n",
    "\n",
    "res = a**b\n",
    "print(res)"
   ]
  },
  {
   "cell_type": "markdown",
   "id": "097a1c4a",
   "metadata": {},
   "source": [
    "Operator Precedence and Associativity"
   ]
  },
  {
   "cell_type": "code",
   "execution_count": null,
   "id": "d246d0e8",
   "metadata": {},
   "outputs": [
    {
     "name": "stdout",
     "output_type": "stream",
     "text": [
      "11\n",
      "14\n"
     ]
    }
   ],
   "source": [
    "#1. Operator Precedence\n",
    "print(5+2*3)\n",
    "print(5+3**2)"
   ]
  },
  {
   "cell_type": "code",
   "execution_count": null,
   "id": "3d67c5e2",
   "metadata": {},
   "outputs": [
    {
     "name": "stdout",
     "output_type": "stream",
     "text": [
      "7\n"
     ]
    }
   ],
   "source": [
    "#2. Operator Associativity\n",
    "# Left-to-Right Associativity\n",
    "print(5+4-2)"
   ]
  },
  {
   "cell_type": "code",
   "execution_count": 11,
   "id": "38ca53e5",
   "metadata": {},
   "outputs": [
    {
     "name": "stdout",
     "output_type": "stream",
     "text": [
      "1.4142135623730951\n",
      "1.4142135623730951\n",
      "0.25\n"
     ]
    }
   ],
   "source": [
    "# Right-to-Left Associativity\n",
    "print(2**2**-1)\n",
    "print(2**(2**-1))\n",
    "print((2**2)**-1)"
   ]
  }
 ],
 "metadata": {
  "kernelspec": {
   "display_name": "Python 3",
   "language": "python",
   "name": "python3"
  },
  "language_info": {
   "codemirror_mode": {
    "name": "ipython",
    "version": 3
   },
   "file_extension": ".py",
   "mimetype": "text/x-python",
   "name": "python",
   "nbconvert_exporter": "python",
   "pygments_lexer": "ipython3",
   "version": "3.13.4"
  }
 },
 "nbformat": 4,
 "nbformat_minor": 5
}
