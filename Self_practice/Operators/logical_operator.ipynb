{
 "cells": [
  {
   "cell_type": "markdown",
   "id": "5c644074",
   "metadata": {},
   "source": [
    "Python Logical Operators with Examples"
   ]
  },
  {
   "cell_type": "code",
   "execution_count": 3,
   "id": "cb47c456",
   "metadata": {},
   "outputs": [
    {
     "name": "stdout",
     "output_type": "stream",
     "text": [
      "True\n",
      "True\n",
      "True\n"
     ]
    }
   ],
   "source": [
    "# Basic Logical Operators\n",
    "a = 10\n",
    "b = 20\n",
    "c = 30\n",
    "print(a<b and b<c)\n",
    "print(a<b or b>c)\n",
    "print(not a>b)\n"
   ]
  },
  {
   "cell_type": "code",
   "execution_count": 4,
   "id": "103b1fff",
   "metadata": {},
   "outputs": [
    {
     "name": "stdout",
     "output_type": "stream",
     "text": [
      "AnkitAch32123\n"
     ]
    }
   ],
   "source": [
    "# Logical Operators with Non-Boolean Values\n",
    "s1=\"\"\n",
    "s2= s1 or \"AnkitAch32123\"\n",
    "print(s2)"
   ]
  },
  {
   "cell_type": "code",
   "execution_count": 5,
   "id": "04c92a0f",
   "metadata": {},
   "outputs": [
    {
     "name": "stdout",
     "output_type": "stream",
     "text": [
      "10\n",
      "200\n",
      "50\n"
     ]
    }
   ],
   "source": [
    "# Another example\n",
    "x = 10\n",
    "print(x or 20)\n",
    "\n",
    "y= 0\n",
    "print(y or 200)\n",
    "\n",
    "z= 40\n",
    "print(z and 50)\n"
   ]
  }
 ],
 "metadata": {
  "kernelspec": {
   "display_name": "Python 3",
   "language": "python",
   "name": "python3"
  },
  "language_info": {
   "codemirror_mode": {
    "name": "ipython",
    "version": 3
   },
   "file_extension": ".py",
   "mimetype": "text/x-python",
   "name": "python",
   "nbconvert_exporter": "python",
   "pygments_lexer": "ipython3",
   "version": "3.13.4"
  }
 },
 "nbformat": 4,
 "nbformat_minor": 5
}
