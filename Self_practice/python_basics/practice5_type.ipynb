{
 "cells": [
  {
   "cell_type": "code",
   "execution_count": null,
   "id": "c4699e56",
   "metadata": {},
   "outputs": [
    {
     "name": "stdout",
     "output_type": "stream",
     "text": [
      "<class 'tuple'>\n",
      "<class 'list'>\n",
      "<class 'dict'>\n",
      "<class 'set'>\n",
      "<class 'str'>\n",
      "<class 'float'>\n",
      "<class 'int'>\n"
     ]
    }
   ],
   "source": [
    "#Type() in Python\n",
    "#Tuple\n",
    "a = (\"Ankit\",\"Acharya\",\"Pokhara\")\n",
    "#List\n",
    "b = [\"Ankit\",\"Acharya\",\"Pokhara\"]\n",
    "#Dictionary\n",
    "c= {\"name\":\"Ankit\",\"age\":22,\"weight\":69.5}\n",
    "#Set\n",
    "d = {\"Ankit\",\"Acharya\",\"Pokhara\"}\n",
    "#String\n",
    "e = \"Ankit Acharya\"\n",
    "#Float\n",
    "f = 10.1\n",
    "#Integer\n",
    "g= 10\n",
    "\n",
    "print(type(a))\n",
    "print(type(b))\n",
    "print(type(c))\n",
    "print(type(d))\n",
    "print(type(e))\n",
    "print(type(f))\n",
    "print(type(g))"
   ]
  },
  {
   "cell_type": "code",
   "execution_count": 4,
   "id": "e9e98231",
   "metadata": {},
   "outputs": [
    {
     "name": "stdout",
     "output_type": "stream",
     "text": [
      "True\n",
      "False\n",
      "True\n",
      "True\n",
      "True\n"
     ]
    }
   ],
   "source": [
    "#Check object parameter\n",
    "print(type([]) is list)\n",
    "print(type([]) is not list)\n",
    "print(type(()) is tuple)\n",
    "print(type({}) is dict)\n",
    "print(type({}) is not list)"
   ]
  }
 ],
 "metadata": {
  "kernelspec": {
   "display_name": "Python 3",
   "language": "python",
   "name": "python3"
  },
  "language_info": {
   "codemirror_mode": {
    "name": "ipython",
    "version": 3
   },
   "file_extension": ".py",
   "mimetype": "text/x-python",
   "name": "python",
   "nbconvert_exporter": "python",
   "pygments_lexer": "ipython3",
   "version": "3.13.4"
  }
 },
 "nbformat": 4,
 "nbformat_minor": 5
}
