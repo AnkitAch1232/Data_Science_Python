{
 "cells": [
  {
   "cell_type": "code",
   "execution_count": null,
   "id": "3fcd323b",
   "metadata": {},
   "outputs": [
    {
     "name": "stdout",
     "output_type": "stream",
     "text": [
      "The 10 is greater than 5\n",
      "1000 is greater than 200\n"
     ]
    }
   ],
   "source": [
    "# if, else and elif in python\n",
    "# if statement\n",
    "if 10>5:\n",
    "    print(\"The 10 is greater than 5\")\n",
    "\n",
    "def compare(a,b):\n",
    "    if a>b:\n",
    "        print(f\"{a} is greater than {b}\")\n",
    "    else:\n",
    "        print(f\"{b} is greater than {a}\")\n",
    "compare(200,1000)            "
   ]
  },
  {
   "cell_type": "code",
   "execution_count": 7,
   "id": "f9e73962",
   "metadata": {},
   "outputs": [
    {
     "name": "stdout",
     "output_type": "stream",
     "text": [
      "No\n",
      "11 is greater than 10\n"
     ]
    }
   ],
   "source": [
    "#if..else statement\n",
    "x= 3\n",
    "if x ==4:\n",
    "    print(\"yes\")\n",
    "else:\n",
    "    print(\"No\")\n",
    "\n",
    "num1 = int(input(\"Enter first num: \")) \n",
    "num2 = int(input(\"Enter second num: \"))\n",
    "def compare(a,b):\n",
    "   if a>b:\n",
    "      print(f\"{a} is greater than {b}\")\n",
    "   elif a==b:\n",
    "      print(f\"{a} is equals to {b}\")\n",
    "   else:\n",
    "      print(f\"{a} is lesser than {b}\")\n",
    "compare(num1,num2)"
   ]
  },
  {
   "cell_type": "code",
   "execution_count": null,
   "id": "f7d921d2",
   "metadata": {},
   "outputs": [
    {
     "name": "stdout",
     "output_type": "stream",
     "text": [
      "The letter is A\n"
     ]
    }
   ],
   "source": [
    "# if ... else chain statement\n",
    "letter = \"A\"\n",
    "\n",
    "if letter ==\"B\":\n",
    "    print(\"The letter is B\")\n",
    "else:\n",
    "    if letter ==\"C\":\n",
    "        print(\"The letter is C\")\n",
    "    else:\n",
    "        if letter == \"A\":\n",
    "            print(\"The letter is A\")\n",
    "        else:\n",
    "            print(\"The letter is not A,B,C\")"
   ]
  },
  {
   "cell_type": "code",
   "execution_count": null,
   "id": "a4518fd3",
   "metadata": {},
   "outputs": [
    {
     "name": "stdout",
     "output_type": "stream",
     "text": [
      "11 is positive num\n"
     ]
    }
   ],
   "source": [
    "# positive or negative || even or odd\n",
    "a = int(input(\"Enter a number:\"))\n",
    "\n",
    "def checkPostiveOrNegative(num):\n",
    "    if num>0:\n",
    "        print(f\"{num} is positive num\")\n",
    "    elif num < 0:\n",
    "        print(f\"{num} is negative num\")\n",
    "    elif num == 0:\n",
    "        print(f\"{num} is zero\")\n",
    "checkPostiveOrNegative(a)\n",
    "\n",
    "def oddEvenCheck(num):\n",
    "    if num == 0:\n",
    "        print(f\"{num} is neither odd nor even\")\n",
    "    elif num%2 == 0:\n",
    "        print(f\"{num} is even\")\n",
    "    else:\n",
    "        print(f\"{num} is odd\")    "
   ]
  },
  {
   "cell_type": "code",
   "execution_count": 18,
   "id": "b8d9c818",
   "metadata": {},
   "outputs": [
    {
     "name": "stdout",
     "output_type": "stream",
     "text": [
      "11 is greater than 5 but lesser than 15\n"
     ]
    }
   ],
   "source": [
    "#Nested if statement\n",
    "num = int(input(\"Enter a num:\"))\n",
    "\n",
    "if num>5:\n",
    "    if num<15:\n",
    "        print(f\"{num} is greater than 5 but lesser than 15\")\n",
    "        "
   ]
  },
  {
   "cell_type": "code",
   "execution_count": 19,
   "id": "740f67a0",
   "metadata": {},
   "outputs": [
    {
     "name": "stdout",
     "output_type": "stream",
     "text": [
      "0.5\n"
     ]
    }
   ],
   "source": [
    "print(1//2 + 1.0/2)"
   ]
  }
 ],
 "metadata": {
  "kernelspec": {
   "display_name": "Python 3",
   "language": "python",
   "name": "python3"
  },
  "language_info": {
   "codemirror_mode": {
    "name": "ipython",
    "version": 3
   },
   "file_extension": ".py",
   "mimetype": "text/x-python",
   "name": "python",
   "nbconvert_exporter": "python",
   "pygments_lexer": "ipython3",
   "version": "3.13.4"
  }
 },
 "nbformat": 4,
 "nbformat_minor": 5
}
