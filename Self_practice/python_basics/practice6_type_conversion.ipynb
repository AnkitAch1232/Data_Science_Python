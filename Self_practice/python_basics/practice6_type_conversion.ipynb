{
 "cells": [
  {
   "cell_type": "code",
   "execution_count": null,
   "id": "fb762cf6",
   "metadata": {},
   "outputs": [
    {
     "name": "stdout",
     "output_type": "stream",
     "text": [
      "11.5\n",
      "11\n"
     ]
    }
   ],
   "source": [
    "#Types Conversion in Python\n",
    "#1. Implicit Type Conversion - happens automatically\n",
    "#2. Explicit Type Conversion - need some syntax or functions\n",
    "#Implicit\n",
    "a = 10\n",
    "b = 1.5\n",
    "c= a +b\n",
    "print(c)\n",
    "d = True\n",
    "e = a + d \n",
    "print(e)"
   ]
  },
  {
   "cell_type": "code",
   "execution_count": 2,
   "id": "e0e239dc",
   "metadata": {},
   "outputs": [
    {
     "name": "stdout",
     "output_type": "stream",
     "text": [
      "146\n",
      "136.0\n"
     ]
    }
   ],
   "source": [
    "#Explicit\n",
    "s = \"136\"\n",
    "i = 10 + int(s)\n",
    "j = float(s)\n",
    "print(i)\n",
    "print(j)\n"
   ]
  },
  {
   "cell_type": "code",
   "execution_count": 4,
   "id": "5aa7f6b6",
   "metadata": {},
   "outputs": [
    {
     "name": "stdout",
     "output_type": "stream",
     "text": [
      "['g', 'e', 'e', 'k', 's']\n",
      "('g', 'e', 'e', 'k', 's')\n",
      "{'s', 'g', 'e', 'k'}\n"
     ]
    }
   ],
   "source": [
    "#Converting Between Different Containers\n",
    "s = \"geeks\"\n",
    "print(list(s))\n",
    "print(tuple(s))\n",
    "print(set(s))"
   ]
  },
  {
   "cell_type": "code",
   "execution_count": 6,
   "id": "0a0e2da2",
   "metadata": {},
   "outputs": [
    {
     "name": "stdout",
     "output_type": "stream",
     "text": [
      "['a', 'b', 'c']\n",
      "1011\n",
      "12.5\n"
     ]
    }
   ],
   "source": [
    "#String Representation of Containers\n",
    "a = ['a','b','c']\n",
    "print(str(a))\n",
    "a = 10\n",
    "b = 11\n",
    "print(str(a)+str(b))\n",
    "c = 12.5\n",
    "print(str(c))"
   ]
  },
  {
   "cell_type": "code",
   "execution_count": 7,
   "id": "45b1d511",
   "metadata": {},
   "outputs": [
    {
     "name": "stdout",
     "output_type": "stream",
     "text": [
      "[10, 20, 30]\n",
      "[10, 20, 30]\n"
     ]
    }
   ],
   "source": [
    "#Converting Containers to Lists\n",
    "t = (10,20,30)\n",
    "print(list(t))\n",
    "s = {10,20,30}\n",
    "print(list(s))"
   ]
  },
  {
   "cell_type": "code",
   "execution_count": null,
   "id": "4c8ad32d",
   "metadata": {},
   "outputs": [
    {
     "name": "stdout",
     "output_type": "stream",
     "text": [
      "0b10110\n",
      "0x16\n",
      "0o26\n"
     ]
    }
   ],
   "source": [
    "#Binary, Octal and Hexadecimal Conversions\n",
    "a = 22\n",
    "print(bin(a))\n",
    "print(hex(a))\n",
    "print(oct(a))\n",
    "#0b means binary\n",
    "#0x means hexadecimal\n",
    "#0o means octal"
   ]
  },
  {
   "cell_type": "code",
   "execution_count": 9,
   "id": "2832b252",
   "metadata": {},
   "outputs": [
    {
     "name": "stdout",
     "output_type": "stream",
     "text": [
      "9\n",
      "10\n",
      "161\n"
     ]
    }
   ],
   "source": [
    "#Converting Back to decimal\n",
    "a = \"1001\"\n",
    "print(int(a,2))\n",
    "b = \"12\"\n",
    "print(int(b,8))\n",
    "c = \"A1\"\n",
    "print(int(c,16))\n"
   ]
  }
 ],
 "metadata": {
  "kernelspec": {
   "display_name": "Python 3",
   "language": "python",
   "name": "python3"
  },
  "language_info": {
   "codemirror_mode": {
    "name": "ipython",
    "version": 3
   },
   "file_extension": ".py",
   "mimetype": "text/x-python",
   "name": "python",
   "nbconvert_exporter": "python",
   "pygments_lexer": "ipython3",
   "version": "3.13.4"
  }
 },
 "nbformat": 4,
 "nbformat_minor": 5
}
