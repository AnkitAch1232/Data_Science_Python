{
 "cells": [
  {
   "cell_type": "code",
   "execution_count": null,
   "id": "62a6d244",
   "metadata": {},
   "outputs": [],
   "source": [
    "#Comments in python\n",
    "#1. Single line comments\n",
    "#2. Multiline comments\n",
    "#3. Docstring Comments"
   ]
  },
  {
   "cell_type": "code",
   "execution_count": null,
   "id": "309fa1da",
   "metadata": {},
   "outputs": [
    {
     "name": "stdout",
     "output_type": "stream",
     "text": [
      "Ankit Acharya\n"
     ]
    }
   ],
   "source": [
    "#Python program to demonstrate comments\n",
    "\n",
    "#sample comment\n",
    "name = \"Ankit Acharya\"\n",
    "print(name\n",
    "      )"
   ]
  },
  {
   "cell_type": "code",
   "execution_count": 3,
   "id": "82bd532e",
   "metadata": {},
   "outputs": [
    {
     "name": "stdout",
     "output_type": "stream",
     "text": [
      "Ankit Acharya\n"
     ]
    }
   ],
   "source": [
    "#Single line comments\n",
    "\n",
    "#Print \"Ankit Acharya\" \n",
    "print(\"Ankit Acharya\")"
   ]
  },
  {
   "cell_type": "code",
   "execution_count": 4,
   "id": "2f5af300",
   "metadata": {},
   "outputs": [
    {
     "name": "stdout",
     "output_type": "stream",
     "text": [
      "Multiline comments\n"
     ]
    }
   ],
   "source": [
    "#Multi line comments\n",
    "\n",
    "#python program to demonstrate\n",
    "#multiline comments.\n",
    "print(\"Multiline comments\")"
   ]
  },
  {
   "cell_type": "code",
   "execution_count": 8,
   "id": "780fff69",
   "metadata": {},
   "outputs": [
    {
     "name": "stdout",
     "output_type": "stream",
     "text": [
      "2\n",
      "Multiples the value of a and b\n",
      "0.2\n",
      "Divide the value of a by b\n"
     ]
    }
   ],
   "source": [
    "#Python Docstring\n",
    "def multiply(a,b):\n",
    "    \"\"\"Multiples the value of a and b\"\"\"\n",
    "    return a *b\n",
    "\n",
    "# Print the docstring of multiply function\n",
    "print(multiply(2,1))\n",
    "print(multiply.__doc__)\n",
    "\n",
    "def divide(a,b):\n",
    "    \"\"\"Divide the value of a by b\"\"\"\n",
    "    return a/b\n",
    "\n",
    "print(divide(2,10))\n",
    "print(divide.__doc__)\n"
   ]
  },
  {
   "cell_type": "code",
   "execution_count": null,
   "id": "78b25063",
   "metadata": {},
   "outputs": [],
   "source": []
  }
 ],
 "metadata": {
  "kernelspec": {
   "display_name": "Python 3",
   "language": "python",
   "name": "python3"
  },
  "language_info": {
   "codemirror_mode": {
    "name": "ipython",
    "version": 3
   },
   "file_extension": ".py",
   "mimetype": "text/x-python",
   "name": "python",
   "nbconvert_exporter": "python",
   "pygments_lexer": "ipython3",
   "version": "3.13.4"
  }
 },
 "nbformat": 4,
 "nbformat_minor": 5
}
