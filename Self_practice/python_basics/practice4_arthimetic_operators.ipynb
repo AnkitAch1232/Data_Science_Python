{
 "cells": [
  {
   "cell_type": "code",
   "execution_count": 1,
   "id": "3ba8903a",
   "metadata": {},
   "outputs": [
    {
     "name": "stdout",
     "output_type": "stream",
     "text": [
      "14\n"
     ]
    }
   ],
   "source": [
    "#Addition Operator\n",
    "a= 2\n",
    "b = 12\n",
    "sum = a+b\n",
    "print(sum)"
   ]
  },
  {
   "cell_type": "code",
   "execution_count": 2,
   "id": "dd8393b3",
   "metadata": {},
   "outputs": [
    {
     "name": "stdout",
     "output_type": "stream",
     "text": [
      "-10\n"
     ]
    }
   ],
   "source": [
    "#Subtraction Operator\n",
    "a = 2\n",
    "b = 12\n",
    "minus = a-b\n",
    "print(minus)"
   ]
  },
  {
   "cell_type": "code",
   "execution_count": 3,
   "id": "01e4963e",
   "metadata": {},
   "outputs": [
    {
     "name": "stdout",
     "output_type": "stream",
     "text": [
      "6\n"
     ]
    }
   ],
   "source": [
    "#Multiplication Operator\n",
    "a = 2\n",
    "b = 3\n",
    "res = a * b\n",
    "print(res)"
   ]
  },
  {
   "cell_type": "code",
   "execution_count": 4,
   "id": "be913eee",
   "metadata": {},
   "outputs": [
    {
     "name": "stdout",
     "output_type": "stream",
     "text": [
      "1.5\n"
     ]
    }
   ],
   "source": [
    "#Division Operator\n",
    "a = 3\n",
    "b = 2\n",
    "res = a/b\n",
    "print(res)"
   ]
  },
  {
   "cell_type": "code",
   "execution_count": 5,
   "id": "c0dd2607",
   "metadata": {},
   "outputs": [
    {
     "name": "stdout",
     "output_type": "stream",
     "text": [
      "1\n"
     ]
    }
   ],
   "source": [
    "#Modulus Operator\n",
    "a = 3\n",
    "b = 2\n",
    "res = a%b\n",
    "print(res)"
   ]
  },
  {
   "cell_type": "code",
   "execution_count": 6,
   "id": "7447aa83",
   "metadata": {},
   "outputs": [
    {
     "name": "stdout",
     "output_type": "stream",
     "text": [
      "8\n"
     ]
    }
   ],
   "source": [
    "#Exponentiation Operator\n",
    "a = 2\n",
    "b = 3\n",
    "res = a**b\n",
    "print(res)"
   ]
  },
  {
   "cell_type": "code",
   "execution_count": 7,
   "id": "dca3136c",
   "metadata": {},
   "outputs": [
    {
     "name": "stdout",
     "output_type": "stream",
     "text": [
      "1\n"
     ]
    }
   ],
   "source": [
    "#Floor Division Operator\n",
    "a = 3\n",
    "b = 2\n",
    "res= a//b\n",
    "print(res)"
   ]
  },
  {
   "cell_type": "code",
   "execution_count": null,
   "id": "50f6178f",
   "metadata": {},
   "outputs": [
    {
     "name": "stdout",
     "output_type": "stream",
     "text": [
      "11\n",
      "3298534883333\n"
     ]
    }
   ],
   "source": [
    "#Operator Precedence and Associativity\n",
    "#1. Operator Precedence\n",
    "print(5+2*3)\n",
    "print(5+3*4**20)"
   ]
  },
  {
   "cell_type": "code",
   "execution_count": 9,
   "id": "7d2b00cd",
   "metadata": {},
   "outputs": [
    {
     "name": "stdout",
     "output_type": "stream",
     "text": [
      "7\n",
      "1.4142135623730951\n",
      "1.4142135623730951\n",
      "0.25\n"
     ]
    }
   ],
   "source": [
    "#2. Operator Associativity\n",
    "#Left-to-Right Associativity\n",
    "print(5+4-2)\n",
    "\n",
    "#Right-to-Left Associativity\n",
    "print(2**2**-1)\n",
    "print(2**(2**-1))\n",
    "print((2**2)**-1)"
   ]
  }
 ],
 "metadata": {
  "kernelspec": {
   "display_name": "Python 3",
   "language": "python",
   "name": "python3"
  },
  "language_info": {
   "codemirror_mode": {
    "name": "ipython",
    "version": 3
   },
   "file_extension": ".py",
   "mimetype": "text/x-python",
   "name": "python",
   "nbconvert_exporter": "python",
   "pygments_lexer": "ipython3",
   "version": "3.13.4"
  }
 },
 "nbformat": 4,
 "nbformat_minor": 5
}
