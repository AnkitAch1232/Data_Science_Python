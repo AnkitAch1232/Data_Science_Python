{
 "cells": [
  {
   "cell_type": "code",
   "execution_count": 1,
   "id": "83fadb45",
   "metadata": {},
   "outputs": [
    {
     "name": "stdout",
     "output_type": "stream",
     "text": [
      "Ankit has weight 69.2 and age 22\n"
     ]
    }
   ],
   "source": [
    "#Creating and Using Variables\n",
    "age = 22\n",
    "name = \"Ankit\"\n",
    "weight = 69.2\n",
    " \n",
    "print(name,\"has weight\",weight,\"and age\",age)"
   ]
  },
  {
   "cell_type": "code",
   "execution_count": 2,
   "id": "7f506774",
   "metadata": {},
   "outputs": [
    {
     "name": "stdout",
     "output_type": "stream",
     "text": [
      "The total price is 118\n"
     ]
    }
   ],
   "source": [
    "#Using Variables in Computations\n",
    "price = 100\n",
    "tax= 18\n",
    "total_price = price + tax\n",
    "print(\"The total price is\",total_price)"
   ]
  },
  {
   "cell_type": "code",
   "execution_count": 3,
   "id": "4a5cf0db",
   "metadata": {},
   "outputs": [
    {
     "name": "stdout",
     "output_type": "stream",
     "text": [
      "10 20 30 40\n",
      "10 100 30 40\n"
     ]
    }
   ],
   "source": [
    "#Value changing of variables\n",
    "x = 10\n",
    "y =20\n",
    "z= 30\n",
    "a = 40\n",
    "print(x,y,z,a)\n",
    "y=100\n",
    "print(x,y,z,a)"
   ]
  },
  {
   "cell_type": "code",
   "execution_count": 4,
   "id": "a257ce37",
   "metadata": {},
   "outputs": [
    {
     "name": "stdout",
     "output_type": "stream",
     "text": [
      "10\n",
      "ankit acharya\n"
     ]
    }
   ],
   "source": [
    "#Dynamically Typed Nature of Python\n",
    "x=10\n",
    "print(x)\n",
    "x = \"ankit acharya\"\n",
    "print(x)"
   ]
  },
  {
   "cell_type": "code",
   "execution_count": null,
   "id": "26879897",
   "metadata": {},
   "outputs": [
    {
     "name": "stdout",
     "output_type": "stream",
     "text": [
      "True\n",
      "False\n",
      "False\n",
      "True\n"
     ]
    }
   ],
   "source": [
    "#Boolean Variables\n",
    "is_Valid = True\n",
    "is_Married = False\n",
    "is_Sick = False\n",
    "has_Eaten = True\n",
    "print(is_Valid)\n",
    "print(is_Married)\n",
    "print(is_Sick)\n",
    "print(has_Eaten)"
   ]
  },
  {
   "cell_type": "code",
   "execution_count": 6,
   "id": "33dd90da",
   "metadata": {},
   "outputs": [
    {
     "name": "stdout",
     "output_type": "stream",
     "text": [
      "None\n"
     ]
    }
   ],
   "source": [
    "#Special Value: None\n",
    "x= None\n",
    "print(x)"
   ]
  },
  {
   "cell_type": "code",
   "execution_count": 7,
   "id": "7667427f",
   "metadata": {},
   "outputs": [
    {
     "ename": "NameError",
     "evalue": "name 'bb' is not defined",
     "output_type": "error",
     "traceback": [
      "\u001b[31m---------------------------------------------------------------------------\u001b[39m",
      "\u001b[31mNameError\u001b[39m                                 Traceback (most recent call last)",
      "\u001b[36mCell\u001b[39m\u001b[36m \u001b[39m\u001b[32mIn[7]\u001b[39m\u001b[32m, line 2\u001b[39m\n\u001b[32m      1\u001b[39m \u001b[38;5;66;03m#Accessing Undefined Variables\u001b[39;00m\n\u001b[32m----> \u001b[39m\u001b[32m2\u001b[39m \u001b[38;5;28mprint\u001b[39m(\u001b[43mbb\u001b[49m)\n",
      "\u001b[31mNameError\u001b[39m: name 'bb' is not defined"
     ]
    }
   ],
   "source": [
    "#Accessing Undefined Variables\n",
    "print(bb)"
   ]
  }
 ],
 "metadata": {
  "kernelspec": {
   "display_name": "Python 3",
   "language": "python",
   "name": "python3"
  },
  "language_info": {
   "codemirror_mode": {
    "name": "ipython",
    "version": 3
   },
   "file_extension": ".py",
   "mimetype": "text/x-python",
   "name": "python",
   "nbconvert_exporter": "python",
   "pygments_lexer": "ipython3",
   "version": "3.13.4"
  }
 },
 "nbformat": 4,
 "nbformat_minor": 5
}
