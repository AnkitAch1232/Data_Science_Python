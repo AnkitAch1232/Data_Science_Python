{
 "cells": [
  {
   "cell_type": "markdown",
   "id": "7265dc6f",
   "metadata": {},
   "source": [
    "Continue in Python"
   ]
  },
  {
   "cell_type": "code",
   "execution_count": 1,
   "id": "25bb36c8",
   "metadata": {},
   "outputs": [
    {
     "name": "stdout",
     "output_type": "stream",
     "text": [
      "16 17 18 19 "
     ]
    }
   ],
   "source": [
    "# Using Continue Statement\n",
    "lis =[10,16,17,18,19,20]\n",
    "\n",
    "for x in lis:\n",
    "    if x%5==0:\n",
    "        continue\n",
    "    print(x,end=\" \")"
   ]
  },
  {
   "cell_type": "code",
   "execution_count": 2,
   "id": "d205ad43",
   "metadata": {},
   "outputs": [
    {
     "name": "stdout",
     "output_type": "stream",
     "text": [
      "16\n",
      "17\n",
      "18\n",
      "19\n"
     ]
    }
   ],
   "source": [
    "#Alternate Solution Without Continue\n",
    "lis = [10,16,17,18,19,20]\n",
    "for x in lis:\n",
    "    if x%5 !=0:\n",
    "        print(x)"
   ]
  },
  {
   "cell_type": "code",
   "execution_count": 1,
   "id": "3b9a342c",
   "metadata": {},
   "outputs": [
    {
     "name": "stdout",
     "output_type": "stream",
     "text": [
      "0 0\n",
      "1 1\n",
      "2 4\n",
      "4 16\n",
      "5 25\n",
      "6 36\n",
      "7 49\n",
      "8 64\n",
      "9 81\n"
     ]
    }
   ],
   "source": [
    "i = 0\n",
    "while i<=9:\n",
    "    if i == 3:\n",
    "        i = i+1\n",
    "        continue\n",
    "    print(i,i*i)\n",
    "    i+=1"
   ]
  },
  {
   "cell_type": "code",
   "execution_count": 2,
   "id": "3012c01a",
   "metadata": {},
   "outputs": [
    {
     "name": "stdout",
     "output_type": "stream",
     "text": [
      "16\n",
      "17\n",
      "18\n",
      "9\n",
      "Bye! Program Completed\n"
     ]
    }
   ],
   "source": [
    "# Last Exercise\n",
    "lis = [10,16,17,18,9,15,21,13]\n",
    " \n",
    "for x in lis:\n",
    "    if x%5 == 0:\n",
    "        continue\n",
    "    if x%7 ==0:\n",
    "        break\n",
    "    print(x)\n",
    "\n",
    "print(\"Bye! Program Completed\")    \n"
   ]
  }
 ],
 "metadata": {
  "kernelspec": {
   "display_name": "Python 3",
   "language": "python",
   "name": "python3"
  },
  "language_info": {
   "codemirror_mode": {
    "name": "ipython",
    "version": 3
   },
   "file_extension": ".py",
   "mimetype": "text/x-python",
   "name": "python",
   "nbconvert_exporter": "python",
   "pygments_lexer": "ipython3",
   "version": "3.13.4"
  }
 },
 "nbformat": 4,
 "nbformat_minor": 5
}
