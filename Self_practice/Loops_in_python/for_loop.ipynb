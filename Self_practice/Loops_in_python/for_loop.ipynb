{
 "cells": [
  {
   "cell_type": "markdown",
   "id": "02f6d53a",
   "metadata": {},
   "source": [
    "For loop in python\n",
    "basic syntax: \n",
    "for var in iterable:\n",
    "    #statements"
   ]
  },
  {
   "cell_type": "markdown",
   "id": "4ed45a8e",
   "metadata": {},
   "source": [
    "Iterating through different iterables\n",
    "1. List\n",
    "2. Tuple\n",
    "3. String\n",
    "4. Set\n",
    "5. Range"
   ]
  },
  {
   "cell_type": "code",
   "execution_count": 1,
   "id": "a7432f30",
   "metadata": {},
   "outputs": [
    {
     "name": "stdout",
     "output_type": "stream",
     "text": [
      "10\n",
      "20\n",
      "30\n",
      "40\n"
     ]
    }
   ],
   "source": [
    "# Iterating through a List\n",
    "list1 = [10,20,30,40]\n",
    "for x in list1:\n",
    "    print(x)\n"
   ]
  },
  {
   "cell_type": "code",
   "execution_count": 3,
   "id": "d5792dfc",
   "metadata": {},
   "outputs": [
    {
     "name": "stdout",
     "output_type": "stream",
     "text": [
      "s d a s d "
     ]
    }
   ],
   "source": [
    "#Iterating through a String\n",
    "\n",
    "s= \"sdasd\"\n",
    "for x in s:\n",
    "    print(x,end=\" \")"
   ]
  },
  {
   "cell_type": "code",
   "execution_count": 5,
   "id": "d96aced1",
   "metadata": {},
   "outputs": [
    {
     "name": "stdout",
     "output_type": "stream",
     "text": [
      "1 2 3 4 5 "
     ]
    }
   ],
   "source": [
    "# Iterating through a Range\n",
    "for x in range(5):\n",
    "    print(x+1, end=\" \")"
   ]
  },
  {
   "cell_type": "code",
   "execution_count": 9,
   "id": "1b9e89e4",
   "metadata": {},
   "outputs": [
    {
     "name": "stdout",
     "output_type": "stream",
     "text": [
      "3 6 9 12 15 18 "
     ]
    }
   ],
   "source": [
    "# Using for loop with range and if statement\n",
    "for x in range(1,20):\n",
    "    if x%3==0:\n",
    "        print(x,end=\" \")"
   ]
  },
  {
   "cell_type": "code",
   "execution_count": 10,
   "id": "f6f4aef6",
   "metadata": {},
   "outputs": [
    {
     "name": "stdout",
     "output_type": "stream",
     "text": [
      "10 20 30 40 50 "
     ]
    }
   ],
   "source": [
    "# Iterating with Index Using range(len())\n",
    "\n",
    "l = [10,20,30,40,50]\n",
    "for i in range(len(l)):\n",
    "    print(l[i],end=\" \")"
   ]
  },
  {
   "cell_type": "code",
   "execution_count": 17,
   "id": "30036b2a",
   "metadata": {},
   "outputs": [
    {
     "name": "stdout",
     "output_type": "stream",
     "text": [
      "2 * 3 = 6\n",
      "2 * 6 = 12\n",
      "2 * 9 = 18\n",
      "4 * 3 = 12\n",
      "4 * 6 = 24\n",
      "4 * 9 = 36\n",
      "6 * 3 = 18\n",
      "6 * 6 = 36\n",
      "6 * 9 = 54\n",
      "8 * 3 = 24\n",
      "8 * 6 = 48\n",
      "8 * 9 = 72\n",
      "10 * 3 = 30\n",
      "10 * 6 = 60\n",
      "10 * 9 = 90\n"
     ]
    }
   ],
   "source": [
    "for i in range(2,11,2):\n",
    "    for j in range(3,11,3):\n",
    "        print(f\"{i} * {j} = {i*j}\")\n",
    "        "
   ]
  }
 ],
 "metadata": {
  "kernelspec": {
   "display_name": "Python 3",
   "language": "python",
   "name": "python3"
  },
  "language_info": {
   "codemirror_mode": {
    "name": "ipython",
    "version": 3
   },
   "file_extension": ".py",
   "mimetype": "text/x-python",
   "name": "python",
   "nbconvert_exporter": "python",
   "pygments_lexer": "ipython3",
   "version": "3.13.4"
  }
 },
 "nbformat": 4,
 "nbformat_minor": 5
}
