{
 "cells": [
  {
   "cell_type": "markdown",
   "id": "d13733a0",
   "metadata": {},
   "source": [
    "While Loops in Python\n",
    "syntax: \n",
    "while condition_test:\n",
    "    statement1\n",
    "    statement2\n",
    "    statement3\n",
    "    "
   ]
  },
  {
   "cell_type": "code",
   "execution_count": 17,
   "id": "d5dc8d25",
   "metadata": {},
   "outputs": [
    {
     "name": "stdout",
     "output_type": "stream",
     "text": [
      "e iteration 1\n",
      "es iteration 2\n",
      "esd iteration 3\n"
     ]
    }
   ],
   "source": [
    "#Printing given string five times\n",
    "i = input(\"Enter a word:\")\n",
    "j = 0\n",
    "while j<len(i):\n",
    "    print(i[0:j+1],\"iteration\", j+1)\n",
    "    j= j +1"
   ]
  },
  {
   "cell_type": "code",
   "execution_count": null,
   "id": "404db35b",
   "metadata": {},
   "outputs": [],
   "source": []
  }
 ],
 "metadata": {
  "kernelspec": {
   "display_name": "Python 3",
   "language": "python",
   "name": "python3"
  },
  "language_info": {
   "codemirror_mode": {
    "name": "ipython",
    "version": 3
   },
   "file_extension": ".py",
   "mimetype": "text/x-python",
   "name": "python",
   "nbconvert_exporter": "python",
   "pygments_lexer": "ipython3",
   "version": "3.13.4"
  }
 },
 "nbformat": 4,
 "nbformat_minor": 5
}
