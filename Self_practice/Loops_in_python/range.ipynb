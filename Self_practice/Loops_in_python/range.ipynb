{
 "cells": [
  {
   "cell_type": "markdown",
   "id": "ab05bccb",
   "metadata": {},
   "source": [
    "Range() in Python"
   ]
  },
  {
   "cell_type": "markdown",
   "id": "92c2195a",
   "metadata": {},
   "source": [
    "1. range(stop)"
   ]
  },
  {
   "cell_type": "code",
   "execution_count": 3,
   "id": "682f719a",
   "metadata": {},
   "outputs": [
    {
     "name": "stdout",
     "output_type": "stream",
     "text": [
      "0 1 2 3 4 5 \n"
     ]
    }
   ],
   "source": [
    "#Print first 6 integers using range(stop)\n",
    "for i in range(6):\n",
    "    print(i, end=\" \")\n",
    "\n",
    "print()    "
   ]
  },
  {
   "cell_type": "markdown",
   "id": "e6daf9f9",
   "metadata": {},
   "source": [
    "2. range(stop,stop)"
   ]
  },
  {
   "cell_type": "code",
   "execution_count": 5,
   "id": "8c5bd5aa",
   "metadata": {},
   "outputs": [
    {
     "name": "stdout",
     "output_type": "stream",
     "text": [
      "5 6 7 8 9 10 11 12 13 14 15 \n"
     ]
    }
   ],
   "source": [
    "#print numbers from 5 to 15 using range(stop,stop)\n",
    "for i in range(5,16):\n",
    "    print(i,end=\" \")\n",
    "print()    "
   ]
  },
  {
   "cell_type": "markdown",
   "id": "2ec68de5",
   "metadata": {},
   "source": [
    "3. range(stop,stop,stop)"
   ]
  },
  {
   "cell_type": "code",
   "execution_count": null,
   "id": "38ad3743",
   "metadata": {},
   "outputs": [
    {
     "name": "stdout",
     "output_type": "stream",
     "text": [
      "12*1 = 12\n",
      "12*2 = 24\n",
      "12*3 = 36\n",
      "12*4 = 48\n",
      "12*5 = 60\n",
      "12*6 = 72\n",
      "12*7 = 84\n",
      "12*8 = 96\n",
      "12*9 = 108\n",
      "12*10 = 120\n"
     ]
    }
   ],
   "source": [
    "# print multiplication table of inputed number using range(stop,stop,stop)\n",
    "num = int(input(\"Enter a number to find its multiplication table:\"))\n",
    "for i in range (1,11,1):\n",
    "\n",
    "    print(f\"{num}*{i} = {num*i}\")"
   ]
  },
  {
   "cell_type": "code",
   "execution_count": null,
   "id": "fad5f171",
   "metadata": {},
   "outputs": [],
   "source": []
  }
 ],
 "metadata": {
  "kernelspec": {
   "display_name": "Python 3",
   "language": "python",
   "name": "python3"
  },
  "language_info": {
   "codemirror_mode": {
    "name": "ipython",
    "version": 3
   },
   "file_extension": ".py",
   "mimetype": "text/x-python",
   "name": "python",
   "nbconvert_exporter": "python",
   "pygments_lexer": "ipython3",
   "version": "3.13.4"
  }
 },
 "nbformat": 4,
 "nbformat_minor": 5
}
