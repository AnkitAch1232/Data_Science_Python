{
 "cells": [
  {
   "cell_type": "markdown",
   "id": "fbd295ce",
   "metadata": {},
   "source": [
    "Break in Python"
   ]
  },
  {
   "cell_type": "code",
   "execution_count": 5,
   "id": "a253aa73",
   "metadata": {},
   "outputs": [
    {
     "name": "stdout",
     "output_type": "stream",
     "text": [
      "2\n"
     ]
    }
   ],
   "source": [
    "# Using for loop with break statement\n",
    "n = int(input())\n",
    "for x in range(2,n+1):\n",
    "    if n%x == 0:\n",
    "        print(x)\n",
    "        break"
   ]
  },
  {
   "cell_type": "code",
   "execution_count": 6,
   "id": "1c894db9",
   "metadata": {},
   "outputs": [
    {
     "name": "stdout",
     "output_type": "stream",
     "text": [
      "3\n"
     ]
    }
   ],
   "source": [
    "# Using while Loop with break statement\n",
    "n= 15\n",
    "x= 2\n",
    "while x<=n:\n",
    "    if n%x==0:\n",
    "        print(x)\n",
    "        break\n",
    "    x+=1"
   ]
  },
  {
   "cell_type": "code",
   "execution_count": 7,
   "id": "b00a542a",
   "metadata": {},
   "outputs": [
    {
     "name": "stdout",
     "output_type": "stream",
     "text": [
      "2 power 4 equals 16\n",
      "3 power 4 equals 81\n",
      "4 power 4 equals 256\n",
      "5 power 4 equals 625\n",
      "6\n"
     ]
    }
   ],
   "source": [
    "i = 2\n",
    "while i<=12:\n",
    "    if i==6:\n",
    "        break\n",
    "    print(f\"{i} power 4 equals {i**4}\")\n",
    "    i+=1\n",
    "print(i)    "
   ]
  }
 ],
 "metadata": {
  "kernelspec": {
   "display_name": "Python 3",
   "language": "python",
   "name": "python3"
  },
  "language_info": {
   "codemirror_mode": {
    "name": "ipython",
    "version": 3
   },
   "file_extension": ".py",
   "mimetype": "text/x-python",
   "name": "python",
   "nbconvert_exporter": "python",
   "pygments_lexer": "ipython3",
   "version": "3.13.4"
  }
 },
 "nbformat": 4,
 "nbformat_minor": 5
}
