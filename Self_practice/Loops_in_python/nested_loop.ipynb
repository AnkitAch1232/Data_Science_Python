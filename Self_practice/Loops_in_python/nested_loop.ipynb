{
 "cells": [
  {
   "cell_type": "markdown",
   "id": "bb012c14",
   "metadata": {},
   "source": [
    "Nested Loop in python"
   ]
  },
  {
   "cell_type": "code",
   "execution_count": null,
   "id": "850f0679",
   "metadata": {},
   "outputs": [],
   "source": [
    "# Initial Approach: Separate Loops for Each Number"
   ]
  },
  {
   "cell_type": "code",
   "execution_count": 1,
   "id": "e1afdc05",
   "metadata": {},
   "outputs": [
    {
     "name": "stdout",
     "output_type": "stream",
     "text": [
      "1 2 3 4 5 6 7 8 9 10 \n",
      "2 4 6 8 10 12 14 16 18 20 \n",
      "2 5 8 11 14 17 20 23 26 29 \n"
     ]
    }
   ],
   "source": [
    "for i in range(1,11,1):\n",
    "    print(i,end=\" \")\n",
    "print()\n",
    "\n",
    "for i in range(2,21,2):\n",
    "    print(i, end=\" \")\n",
    "print()\n",
    "\n",
    "for i in range(2,31,3):\n",
    "    print(i,end=\" \")\n",
    "\n",
    "print()"
   ]
  },
  {
   "cell_type": "code",
   "execution_count": 2,
   "id": "aa155a18",
   "metadata": {},
   "outputs": [
    {
     "name": "stdout",
     "output_type": "stream",
     "text": [
      "1 2 3 4 5 6 7 8 9 10 \n",
      "2 4 6 8 10 12 14 16 18 20 \n",
      "3 6 9 12 15 18 21 24 27 30 \n",
      "4 8 12 16 20 24 28 32 36 40 \n",
      "5 10 15 20 25 30 35 40 45 50 \n"
     ]
    }
   ],
   "source": [
    "#Solutions Using Nested Loops\n",
    "for i in range(1,6):\n",
    "    for j in range(i,i*10+1,i):\n",
    "        print(j,end=\" \")\n",
    "    print()    "
   ]
  },
  {
   "cell_type": "code",
   "execution_count": 3,
   "id": "bac454a3",
   "metadata": {},
   "outputs": [
    {
     "name": "stdout",
     "output_type": "stream",
     "text": [
      "1 1\n",
      "1 2\n",
      "Bye\n",
      "2 1\n",
      "Bye\n"
     ]
    }
   ],
   "source": [
    "# Another Example: Mixing for and while loop\n",
    "for i in range(1,3):\n",
    "    j= 1\n",
    "    while j<3:\n",
    "        print(i,j)\n",
    "        j = j+i\n",
    "    print(\"Bye\")    \n",
    "    "
   ]
  },
  {
   "cell_type": "code",
   "execution_count": 7,
   "id": "c0adfcac",
   "metadata": {},
   "outputs": [
    {
     "name": "stdout",
     "output_type": "stream",
     "text": [
      "10 20 30 \n",
      "40 50 60 \n",
      "70 80 \n",
      "80\n"
     ]
    }
   ],
   "source": [
    "# Application: Traversing a list of Lists\n",
    "ll = [[10,20,30],[40,50,60],[70,80]]\n",
    "for l in ll:\n",
    "    for x in l:\n",
    "        print(x,end=\" \")\n",
    "    print()\n",
    "\n",
    "print(ll[2][1])    "
   ]
  }
 ],
 "metadata": {
  "kernelspec": {
   "display_name": "Python 3",
   "language": "python",
   "name": "python3"
  },
  "language_info": {
   "codemirror_mode": {
    "name": "ipython",
    "version": 3
   },
   "file_extension": ".py",
   "mimetype": "text/x-python",
   "name": "python",
   "nbconvert_exporter": "python",
   "pygments_lexer": "ipython3",
   "version": "3.13.4"
  }
 },
 "nbformat": 4,
 "nbformat_minor": 5
}
