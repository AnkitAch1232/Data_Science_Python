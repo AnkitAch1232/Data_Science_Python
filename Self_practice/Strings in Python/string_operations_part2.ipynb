{
 "cells": [
  {
   "cell_type": "markdown",
   "id": "228db46d",
   "metadata": {},
   "source": [
    "String Operations Part(2)"
   ]
  },
  {
   "cell_type": "code",
   "execution_count": 1,
   "id": "f8c4954a",
   "metadata": {},
   "outputs": [
    {
     "name": "stdout",
     "output_type": "stream",
     "text": [
      "5\n"
     ]
    }
   ],
   "source": [
    "# len() function\n",
    "s1 = \"geeks\"\n",
    "print(len(s1))"
   ]
  },
  {
   "cell_type": "code",
   "execution_count": 3,
   "id": "89431240",
   "metadata": {},
   "outputs": [
    {
     "name": "stdout",
     "output_type": "stream",
     "text": [
      "ANKIT\n",
      "ankit\n"
     ]
    }
   ],
   "source": [
    "# upper() and lower() Methods\n",
    "s1 = \"ankit\"\n",
    "s2= s1.upper()\n",
    "print(s2)\n",
    "s3=s2.lower()\n",
    "print(s3)"
   ]
  },
  {
   "cell_type": "code",
   "execution_count": 4,
   "id": "b8ab6420",
   "metadata": {},
   "outputs": [
    {
     "name": "stdout",
     "output_type": "stream",
     "text": [
      "True\n",
      "True\n"
     ]
    }
   ],
   "source": [
    "# islower() and isupper() Methods\n",
    "s1= \"ankit\"\n",
    "s2=\"ANKIT\"\n",
    "print(s1.islower())\n",
    "print(s2.isupper())"
   ]
  },
  {
   "cell_type": "code",
   "execution_count": 9,
   "id": "723f4ccb",
   "metadata": {},
   "outputs": [
    {
     "name": "stdout",
     "output_type": "stream",
     "text": [
      "True\n",
      "True\n",
      "False\n",
      "True\n"
     ]
    }
   ],
   "source": [
    "# startswith() and endswith() Methods\n",
    "s = \"Geeksforgeeks python course\"\n",
    "print(s.startswith(\"Geeks\"))\n",
    "print(s.endswith(\"course\"))\n",
    "print(s.startswith(\"Geeks\",1))\n",
    "print(s.startswith(\"geeks\",8,len(s)))"
   ]
  },
  {
   "cell_type": "code",
   "execution_count": 13,
   "id": "dfd6ccca",
   "metadata": {},
   "outputs": [
    {
     "name": "stdout",
     "output_type": "stream",
     "text": [
      "['geeks', 'for', 'geeks']\n",
      "['geeks', 'for', 'geeks']\n",
      "geeks for geeks python course\n",
      "geeks,for,geeks,python,course\n"
     ]
    }
   ],
   "source": [
    "# split() and ()join Methods\n",
    "s1 = \"geeks for geeks\"\n",
    "print(s1.split())\n",
    "\n",
    "s2 = \"geeks,for,geeks\"\n",
    "print(s2.split(\",\"))\n",
    "\n",
    "l = [\"geeks\",\"for\",\"geeks\",\"python\",\"course\"]\n",
    "print(\" \".join(l))\n",
    "print(\",\".join(l))"
   ]
  },
  {
   "cell_type": "code",
   "execution_count": 15,
   "id": "c542a2ca",
   "metadata": {},
   "outputs": [
    {
     "name": "stdout",
     "output_type": "stream",
     "text": [
      "geeksforgeeks\n",
      "geeksforgeeks---\n",
      "---geeksforgeeks\n"
     ]
    }
   ],
   "source": [
    "# strip(),lstrip(), and rstrip() Methods\n",
    "s = \"---geeksforgeeks---\"\n",
    "print(s.strip(\"-\"))\n",
    "print(s.lstrip(\"-\"))\n",
    "print(s.rstrip(\"-\"))"
   ]
  },
  {
   "cell_type": "code",
   "execution_count": 17,
   "id": "33ed079e",
   "metadata": {},
   "outputs": [
    {
     "name": "stdout",
     "output_type": "stream",
     "text": [
      "0\n",
      "-1\n",
      "10\n",
      "None\n"
     ]
    }
   ],
   "source": [
    "# find() Method\n",
    "\n",
    "s1= \"geeks for geeks\"\n",
    "s2 =\"geeks\"\n",
    "\n",
    "print(s1.find(s2))\n",
    "print(s1.find(\"gfg\"))\n",
    "print(print(s1.find(s2,1,len(s1))))"
   ]
  }
 ],
 "metadata": {
  "kernelspec": {
   "display_name": "Python 3",
   "language": "python",
   "name": "python3"
  },
  "language_info": {
   "codemirror_mode": {
    "name": "ipython",
    "version": 3
   },
   "file_extension": ".py",
   "mimetype": "text/x-python",
   "name": "python",
   "nbconvert_exporter": "python",
   "pygments_lexer": "ipython3",
   "version": "3.13.4"
  }
 },
 "nbformat": 4,
 "nbformat_minor": 5
}
