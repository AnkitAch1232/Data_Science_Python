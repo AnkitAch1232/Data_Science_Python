{
 "cells": [
  {
   "cell_type": "markdown",
   "id": "2aa733bf",
   "metadata": {},
   "source": [
    "String Operations"
   ]
  },
  {
   "cell_type": "code",
   "execution_count": 2,
   "id": "3e322082",
   "metadata": {},
   "outputs": [
    {
     "name": "stdout",
     "output_type": "stream",
     "text": [
      "True\n",
      "False\n"
     ]
    }
   ],
   "source": [
    "# Checking Substrings using in Operator\n",
    "s1 = \"geeksforgeeks\"\n",
    "s2 = \"geeks\"\n",
    "\n",
    "print(s2 in s1)\n",
    "print(s1 in s2)"
   ]
  },
  {
   "cell_type": "code",
   "execution_count": 4,
   "id": "bf8f2548",
   "metadata": {},
   "outputs": [
    {
     "name": "stdout",
     "output_type": "stream",
     "text": [
      "ggeksforgeek\n",
      "Welcome to ggeksforgeek\n"
     ]
    }
   ],
   "source": [
    "# String Concatenation using + Operator\n",
    "s1 = \"ggeks\"\n",
    "s2 = \"forgeek\"\n",
    "\n",
    "s3 = s1+s2\n",
    "s4 = \"Welcome to \" + s1 + s2\n",
    "print(s3)\n",
    "print(s4)"
   ]
  },
  {
   "cell_type": "code",
   "execution_count": 21,
   "id": "25fd52d8",
   "metadata": {},
   "outputs": [
    {
     "name": "stdout",
     "output_type": "stream",
     "text": [
      "0\n",
      "8\n",
      "8\n"
     ]
    }
   ],
   "source": [
    "# Finding Substring Position using index() Method\n",
    "s1 = \"geeksforgeeks\"\n",
    "s2 = \"geeks\"\n",
    "\n",
    "try:\n",
    "    print(s1.index(s2))\n",
    "except ValueError:\n",
    "    print(\"s2 not found in s1\")\n",
    "\n",
    "try:\n",
    "    print(s1.index(s2, 1))\n",
    "except ValueError:\n",
    "    print(\"s2 not found in s1 from index 1\")\n",
    "\n",
    "try:\n",
    "    print(s1.index(s2,2,13))\n",
    "except ValueError:\n",
    "    print(\"s2 not found in s1 between index 2 and 13\")"
   ]
  },
  {
   "cell_type": "code",
   "execution_count": 28,
   "id": "53a1f4b4",
   "metadata": {},
   "outputs": [
    {
     "name": "stdout",
     "output_type": "stream",
     "text": [
      "8\n",
      "10\n",
      "5\n",
      "3\n"
     ]
    }
   ],
   "source": [
    "# Finding Substring Position usinh rindex() Method\n",
    "\n",
    "string = \"geeksforgeeks\"\n",
    "\n",
    "last_geeks = string.rindex(\"geeks\")\n",
    "print(last_geeks)\n",
    "\n",
    "last_e = string.rindex(\"e\")\n",
    "print(last_e)\n",
    "\n",
    "last_forge = string.rindex('forge',2)\n",
    "print(last_forge)\n",
    "\n",
    "last_ks = string.rindex(\"ks\",0,-2)\n",
    "print(last_ks)"
   ]
  }
 ],
 "metadata": {
  "kernelspec": {
   "display_name": "Python 3",
   "language": "python",
   "name": "python3"
  },
  "language_info": {
   "codemirror_mode": {
    "name": "ipython",
    "version": 3
   },
   "file_extension": ".py",
   "mimetype": "text/x-python",
   "name": "python",
   "nbconvert_exporter": "python",
   "pygments_lexer": "ipython3",
   "version": "3.13.4"
  }
 },
 "nbformat": 4,
 "nbformat_minor": 5
}
