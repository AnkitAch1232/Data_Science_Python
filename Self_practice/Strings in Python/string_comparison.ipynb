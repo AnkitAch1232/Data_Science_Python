{
 "cells": [
  {
   "cell_type": "code",
   "execution_count": 4,
   "id": "3b0848fc",
   "metadata": {},
   "outputs": [
    {
     "name": "stdout",
     "output_type": "stream",
     "text": [
      "True\n",
      "True\n",
      "False\n",
      "False\n",
      "False\n",
      "True\n"
     ]
    }
   ],
   "source": [
    "s1 = \"geksforgeeks\"\n",
    "s2 = \"ide\"\n",
    "\n",
    "print(s1<s2)\n",
    "print(s1<=s2)\n",
    "print(s1>s2)\n",
    "print(s1>=s2)\n",
    "print(s1 == s2)\n",
    "print(s1!=s2)\n"
   ]
  },
  {
   "cell_type": "code",
   "execution_count": null,
   "id": "6b376478",
   "metadata": {},
   "outputs": [
    {
     "name": "stdout",
     "output_type": "stream",
     "text": [
      "False\n"
     ]
    }
   ],
   "source": [
    "# Comparing \"ABCD\" and \"ABC\"\n",
    "str1=\"ABCD\"\n",
    "str2=\"ABC\"\n",
    "print(str1<str2)\n"
   ]
  },
  {
   "cell_type": "code",
   "execution_count": 7,
   "id": "0010f009",
   "metadata": {},
   "outputs": [
    {
     "name": "stdout",
     "output_type": "stream",
     "text": [
      "True\n"
     ]
    }
   ],
   "source": [
    "# Uppercase vs lowercase\n",
    "str1 = \"ABC\"\n",
    "str2 = \"abc\"\n",
    "print(str1<str2)"
   ]
  }
 ],
 "metadata": {
  "kernelspec": {
   "display_name": "Python 3",
   "language": "python",
   "name": "python3"
  },
  "language_info": {
   "codemirror_mode": {
    "name": "ipython",
    "version": 3
   },
   "file_extension": ".py",
   "mimetype": "text/x-python",
   "name": "python",
   "nbconvert_exporter": "python",
   "pygments_lexer": "ipython3",
   "version": "3.13.4"
  }
 },
 "nbformat": 4,
 "nbformat_minor": 5
}
