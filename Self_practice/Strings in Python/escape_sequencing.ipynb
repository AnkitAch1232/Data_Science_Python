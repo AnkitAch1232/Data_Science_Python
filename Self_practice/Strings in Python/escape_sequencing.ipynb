{
 "cells": [
  {
   "cell_type": "markdown",
   "id": "4240905d",
   "metadata": {},
   "source": [
    "Escape Sequencing in Python"
   ]
  },
  {
   "cell_type": "code",
   "execution_count": 1,
   "id": "78271144",
   "metadata": {},
   "outputs": [
    {
     "name": "stdout",
     "output_type": "stream",
     "text": [
      "Initial String with use of Triple Quotes: \n",
      "I'm a Geek\n",
      "\n",
      "Escaping Single Quotes: \n",
      "I'm a \"Geek\"\n",
      "\n",
      "Escaping Double Quotes: \n",
      "I'm a \"Geek\"\n"
     ]
    }
   ],
   "source": [
    "String1 = '''I'm a Geek'''\n",
    "print(\"Initial String with use of Triple Quotes: \")\n",
    "print(String1)\n",
    "\n",
    "String1 = 'I\\'m a \"Geek\"'\n",
    "print(\"\\nEscaping Single Quotes: \")\n",
    "print(String1)\n",
    "\n",
    "String1 = \"I'm a \\\"Geek\\\"\"\n",
    "print(\"\\nEscaping Double Quotes: \")\n",
    "print(String1)"
   ]
  },
  {
   "cell_type": "code",
   "execution_count": 4,
   "id": "bd6738d8",
   "metadata": {},
   "outputs": [
    {
     "name": "stdout",
     "output_type": "stream",
     "text": [
      "C:\\Python\\Geeks\\\n"
     ]
    }
   ],
   "source": [
    "# Use of Escape Sequences\n",
    "String1 = \"C:\\\\Python\\\\Geeks\\\\\"\n",
    "print(String1)"
   ]
  }
 ],
 "metadata": {
  "kernelspec": {
   "display_name": "Python 3",
   "language": "python",
   "name": "python3"
  },
  "language_info": {
   "codemirror_mode": {
    "name": "ipython",
    "version": 3
   },
   "file_extension": ".py",
   "mimetype": "text/x-python",
   "name": "python",
   "nbconvert_exporter": "python",
   "pygments_lexer": "ipython3",
   "version": "3.13.4"
  }
 },
 "nbformat": 4,
 "nbformat_minor": 5
}
