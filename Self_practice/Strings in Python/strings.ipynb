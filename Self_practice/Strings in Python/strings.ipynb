{
 "cells": [
  {
   "cell_type": "markdown",
   "id": "def0805b",
   "metadata": {},
   "source": [
    "Strings in Python"
   ]
  },
  {
   "cell_type": "code",
   "execution_count": 1,
   "id": "7b1588d6",
   "metadata": {},
   "outputs": [
    {
     "name": "stdout",
     "output_type": "stream",
     "text": [
      "97\n",
      "65\n",
      "a\n",
      "E\n"
     ]
    }
   ],
   "source": [
    "# ord() and chr() functions\n",
    "\n",
    "print(ord(\"a\"))\n",
    "print(ord(\"A\"))\n",
    "print(chr(97))\n",
    "print(chr(69))"
   ]
  },
  {
   "cell_type": "code",
   "execution_count": 5,
   "id": "f1be3a5c",
   "metadata": {},
   "outputs": [
    {
     "name": "stdout",
     "output_type": "stream",
     "text": [
      "1. \n",
      "String with single quotes:\n",
      "Welcome to Ankit Practice HUb\n",
      "2. \n",
      "String with double quotes:\n",
      "I'm Ankit\n",
      "3.\n",
      "String with triple quotes:\n",
      "I'm Ankit and \n",
      "I am learning data science\n"
     ]
    }
   ],
   "source": [
    "#String Immutability\n",
    "# Creating Strings\n",
    "string1='Welcome to Ankit Practice HUb'\n",
    "print(\"1. \\nString with single quotes:\")\n",
    "print(string1)\n",
    "\n",
    "string2 = \"I'm Ankit\"\n",
    "print(\"2. \\nString with double quotes:\")\n",
    "print(string2)\n",
    "\n",
    "string3 ='''I'm Ankit and \n",
    "I am learning data science'''\n",
    "print(\"3.\\nString with triple quotes:\")\n",
    "print(string3)"
   ]
  },
  {
   "cell_type": "code",
   "execution_count": 19,
   "id": "f24d4ed4",
   "metadata": {},
   "outputs": [
    {
     "name": "stdout",
     "output_type": "stream",
     "text": [
      "geek\n",
      "ge\n",
      "g\n",
      "eek\n",
      "k\n"
     ]
    }
   ],
   "source": [
    "# Accessing Characters in a String\n",
    "string=\"geek\"\n",
    "print(string)\n",
    "print(string[0:2])\n",
    "print(string[0])\n",
    "print(string[1:len(string)+1])\n",
    "print(string[-1])"
   ]
  }
 ],
 "metadata": {
  "kernelspec": {
   "display_name": "Python 3",
   "language": "python",
   "name": "python3"
  },
  "language_info": {
   "codemirror_mode": {
    "name": "ipython",
    "version": 3
   },
   "file_extension": ".py",
   "mimetype": "text/x-python",
   "name": "python",
   "nbconvert_exporter": "python",
   "pygments_lexer": "ipython3",
   "version": "3.13.4"
  }
 },
 "nbformat": 4,
 "nbformat_minor": 5
}
