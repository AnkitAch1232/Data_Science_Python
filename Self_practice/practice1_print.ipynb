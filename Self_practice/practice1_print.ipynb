{
 "cells": [
  {
   "cell_type": "code",
   "execution_count": null,
   "id": "89b9c99d",
   "metadata": {},
   "outputs": [],
   "source": [
    "#The Syntax of print() funtions is\n",
    "# print(value(s),sep='',end='\\n',file=file,flush=flush)"
   ]
  },
  {
   "cell_type": "code",
   "execution_count": null,
   "id": "433e0860",
   "metadata": {},
   "outputs": [
    {
     "name": "stdout",
     "output_type": "stream",
     "text": [
      "hello\n",
      "hello good all right\n",
      "2059-06-04\n"
     ]
    }
   ],
   "source": [
    "#print statement and sep parameter\n",
    "print(\"hello\")\n",
    "print(\"hello\",\"good\",\"all\",\"right\")\n",
    "print(\"2059\",\"06\",\"04\",sep=\"-\")"
   ]
  },
  {
   "cell_type": "code",
   "execution_count": 3,
   "id": "674d88d0",
   "metadata": {},
   "outputs": [
    {
     "name": "stdout",
     "output_type": "stream",
     "text": [
      "Welcome To Nepal\n",
      "Hope your journey was good**Welcome, Once again\n"
     ]
    }
   ],
   "source": [
    "#end parameter\n",
    "print(\"Welcome\",end=\" \")\n",
    "print(\"To Nepal\")\n",
    "print(\"Hope your journey was good\",end=\"**\")\n",
    "print(\"Welcome, Once again\")"
   ]
  }
 ],
 "metadata": {
  "kernelspec": {
   "display_name": "Python 3",
   "language": "python",
   "name": "python3"
  },
  "language_info": {
   "codemirror_mode": {
    "name": "ipython",
    "version": 3
   },
   "file_extension": ".py",
   "mimetype": "text/x-python",
   "name": "python",
   "nbconvert_exporter": "python",
   "pygments_lexer": "ipython3",
   "version": "3.13.4"
  }
 },
 "nbformat": 4,
 "nbformat_minor": 5
}
