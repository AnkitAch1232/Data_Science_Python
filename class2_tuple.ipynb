{
 "cells": [
  {
   "cell_type": "code",
   "execution_count": 1,
   "id": "d593334a",
   "metadata": {},
   "outputs": [
    {
     "name": "stdout",
     "output_type": "stream",
     "text": [
      "('Ankit Acharya', '23', 'Pokhara')\n"
     ]
    }
   ],
   "source": [
    "tuple1 = (\"Ankit Acharya\",\"23\",\"Pokhara\")\n",
    "print(tuple1)"
   ]
  },
  {
   "cell_type": "code",
   "execution_count": 2,
   "id": "bb2126f5",
   "metadata": {},
   "outputs": [
    {
     "name": "stdout",
     "output_type": "stream",
     "text": [
      "count of 2 is 3\n",
      "index of 3 is 2\n"
     ]
    }
   ],
   "source": [
    "tuple2 = (1,2,3,2,4,2,5)\n",
    "countOfTwo = tuple2.count(2)\n",
    "indexOfThree = tuple2.index(3)\n",
    "print(\"count of 2 is\",countOfTwo)\n",
    "print(\"index of 3 is\", indexOfThree)\n",
    "\n"
   ]
  },
  {
   "cell_type": "code",
   "execution_count": null,
   "id": "4f2be6a6",
   "metadata": {},
   "outputs": [],
   "source": [
    "\n"
   ]
  }
 ],
 "metadata": {
  "kernelspec": {
   "display_name": "Python 3",
   "language": "python",
   "name": "python3"
  },
  "language_info": {
   "codemirror_mode": {
    "name": "ipython",
    "version": 3
   },
   "file_extension": ".py",
   "mimetype": "text/x-python",
   "name": "python",
   "nbconvert_exporter": "python",
   "pygments_lexer": "ipython3",
   "version": "3.13.4"
  }
 },
 "nbformat": 4,
 "nbformat_minor": 5
}
