{
 "cells": [
  {
   "cell_type": "code",
   "execution_count": 2,
   "id": "e9a2c729",
   "metadata": {},
   "outputs": [
    {
     "name": "stdout",
     "output_type": "stream",
     "text": [
      "{'title': 'Daata Science', 'author': 'Ankit', 'year': '2025/02/13', 'pages': '215'}\n"
     ]
    }
   ],
   "source": [
    "book = {\n",
    "    \"title\":\"Daata Science\",\n",
    "    \"author\": \"Ankit\",\n",
    "    \"year\": \"2025/02/13\",\n",
    "    \"pages\": \"215\"\n",
    "}\n",
    "print(book)"
   ]
  },
  {
   "cell_type": "code",
   "execution_count": 4,
   "id": "3dd7b2e0",
   "metadata": {},
   "outputs": [
    {
     "name": "stdout",
     "output_type": "stream",
     "text": [
      "{'name': 'john', 'grade': 'A+', 'age': '20'}\n"
     ]
    }
   ],
   "source": [
    "student ={\n",
    "    \"name\": \"john\",\n",
    "    \"grade\": \"A\"\n",
    "}\n",
    "student[\"age\"] = \"20\"\n",
    "student[\"grade\"] = \"A+\"\n",
    "print(student)"
   ]
  },
  {
   "cell_type": "code",
   "execution_count": 10,
   "id": "7400196d",
   "metadata": {},
   "outputs": [
    {
     "name": "stdout",
     "output_type": "stream",
     "text": [
      "{'grape', 'orange', 'apple'}\n",
      "Has Fruits True\n"
     ]
    }
   ],
   "source": [
    "fruits = {\"apple\",\"banana\",\"orange\"}\n",
    "fruits.add(\"grape\")\n",
    "fruits.remove(\"banana\")\n",
    "hasApple = \"apple\" in fruits\n",
    "print(fruits)\n",
    "print(\"Has Fruits\",hasApple)\n",
    "\n",
    "\n"
   ]
  },
  {
   "cell_type": "code",
   "execution_count": 11,
   "id": "6173681c",
   "metadata": {},
   "outputs": [
    {
     "name": "stdout",
     "output_type": "stream",
     "text": [
      "Characters: ['h', 'e', 'l', 'l', 'o', ' ', 'w', 'o', 'r', 'l', 'd']\n",
      "Words: ['hello', 'world']\n"
     ]
    }
   ],
   "source": [
    "word = \"hello world\"\n",
    "char_list = list(word)\n",
    "word_list = word.split()\n",
    "print(f\"Characters: {char_list}\")\n",
    "print(f\"Words: {word_list}\")"
   ]
  },
  {
   "cell_type": "code",
   "execution_count": 12,
   "id": "3b11d807",
   "metadata": {},
   "outputs": [
    {
     "name": "stdout",
     "output_type": "stream",
     "text": [
      "Max Scores is 96 and min score is 78\n"
     ]
    }
   ],
   "source": [
    "listScore = [80,92,78,96,88]\n",
    "maxScores = max(listScore)\n",
    "minScores = min(listScore)\n",
    "print(f\"Max Scores is {maxScores} and min score is {minScores}\")"
   ]
  },
  {
   "cell_type": "code",
   "execution_count": 17,
   "id": "f586575b",
   "metadata": {},
   "outputs": [
    {
     "name": "stdout",
     "output_type": "stream",
     "text": [
      "{'i', 'a', 'p', 'r', 'm', 'o', 'g', 'n'}\n",
      "{'i', 't', 'l', 'a', 'r', 'm', 'h', 'o', 'g'}\n",
      "{'i', 'a', 'r', 'm', 'o', 'g'}\n",
      "{'i', 't', 'l', 'a', 'p', 'r', 'm', 'h', 'o', 'g', 'n'}\n"
     ]
    }
   ],
   "source": [
    "\n",
    "word1 = \"programming\"\n",
    "word2 =\"algorithm\"\n",
    "set1= set(word1)\n",
    "print(set1)\n",
    "set2 = set(word2)\n",
    "print(set2)\n",
    "intersection = set1&set2\n",
    "print(intersection)\n",
    "union = set1 | set2\n",
    "print(union)\n",
    "\n"
   ]
  }
 ],
 "metadata": {
  "kernelspec": {
   "display_name": "Python 3",
   "language": "python",
   "name": "python3"
  },
  "language_info": {
   "codemirror_mode": {
    "name": "ipython",
    "version": 3
   },
   "file_extension": ".py",
   "mimetype": "text/x-python",
   "name": "python",
   "nbconvert_exporter": "python",
   "pygments_lexer": "ipython3",
   "version": "3.13.4"
  }
 },
 "nbformat": 4,
 "nbformat_minor": 5
}
