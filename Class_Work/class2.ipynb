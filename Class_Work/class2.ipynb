{
 "cells": [
  {
   "cell_type": "code",
   "execution_count": 1,
   "id": "06d87596",
   "metadata": {},
   "outputs": [
    {
     "data": {
      "text/plain": [
       "16"
      ]
     },
     "execution_count": 1,
     "metadata": {},
     "output_type": "execute_result"
    }
   ],
   "source": [
    "pow(2,4)"
   ]
  },
  {
   "cell_type": "markdown",
   "id": "db062b6c",
   "metadata": {},
   "source": [
    "pow(2,4,3)\n",
    "pow(base,exponent,modulus)\n",
    "\n",
    "powwer = (2**4)%3"
   ]
  },
  {
   "cell_type": "code",
   "execution_count": null,
   "id": "a91d431a",
   "metadata": {},
   "outputs": [
    {
     "name": "stdout",
     "output_type": "stream",
     "text": [
      "Help on built-in function divmod in module builtins:\n",
      "\n",
      "divmod(x, y, /)\n",
      "    Return the tuple (x//y, x%y).  Invariant: div*y + mod == x.\n",
      "\n"
     ]
    }
   ],
   "source": [
    "# kehi functions ley k garxa herna milxa help() bata\n",
    "help(divmod)"
   ]
  },
  {
   "cell_type": "code",
   "execution_count": null,
   "id": "e801eac6",
   "metadata": {},
   "outputs": [
    {
     "data": {
      "text/plain": [
       "bool"
      ]
     },
     "execution_count": 5,
     "metadata": {},
     "output_type": "execute_result"
    }
   ],
   "source": [
    "x = isinstance(3.4,(int,float))\n",
    "type(x)"
   ]
  },
  {
   "cell_type": "markdown",
   "id": "014f9d1f",
   "metadata": {},
   "source": [
    "Assignment: get input from user and check wheater the given given number is leap or not. don't use loop"
   ]
  },
  {
   "cell_type": "code",
   "execution_count": null,
   "id": "b3399831",
   "metadata": {},
   "outputs": [],
   "source": []
  },
  {
   "cell_type": "markdown",
   "id": "40cc188f",
   "metadata": {},
   "source": [
    "Assignment: User will enter a floating point number let say 238.915. Your task is to find out the integer portion before the point (in this case 238) and then check if that integer portion is an even number or not"
   ]
  },
  {
   "cell_type": "code",
   "execution_count": 16,
   "id": "43ba453a",
   "metadata": {},
   "outputs": [
    {
     "name": "stdout",
     "output_type": "stream",
     "text": [
      "221.23\n",
      "221.23\n",
      "221\n",
      "odd\n"
     ]
    }
   ],
   "source": [
    "floa = float(input(\"Enter a floating number: \"))\n",
    "print(floa)\n",
    "strin = str(floa)\n",
    "print(strin)\n",
    "\n",
    "point_place = strin.find(\".\")\n",
    "intt = strin[0:point_place]\n",
    "print(intt)\n",
    "\n",
    "inttt = int(intt)\n",
    "\n",
    "if inttt%2 == 0:\n",
    "    print(\"even\")\n",
    "else:\n",
    "    print(\"odd\")"
   ]
  },
  {
   "cell_type": "code",
   "execution_count": 7,
   "id": "0c120565",
   "metadata": {},
   "outputs": [
    {
     "data": {
      "text/plain": [
       "-10"
      ]
     },
     "execution_count": 7,
     "metadata": {},
     "output_type": "execute_result"
    }
   ],
   "source": [
    "round(-9.6)"
   ]
  },
  {
   "cell_type": "markdown",
   "id": "7fc6db73",
   "metadata": {},
   "source": [
    "if- else\n",
    "while loop\n",
    "dict\n"
   ]
  },
  {
   "cell_type": "code",
   "execution_count": 17,
   "id": "4e31fff0",
   "metadata": {},
   "outputs": [
    {
     "name": "stdout",
     "output_type": "stream",
     "text": [
      "a 10\n",
      "b 12\n",
      "c abc\n",
      "d 10\n"
     ]
    }
   ],
   "source": [
    "d= {\"a\":10,\"b\":12,\"c\":\"abc\",\"d\":10}\n",
    "\n",
    "for x in d:\n",
    "    print(x,d[x])"
   ]
  },
  {
   "cell_type": "markdown",
   "id": "34cfbf12",
   "metadata": {},
   "source": [
    "assignment: try do while as practice"
   ]
  },
  {
   "cell_type": "code",
   "execution_count": null,
   "id": "b833dd9f",
   "metadata": {},
   "outputs": [],
   "source": [
    "li = [1,2,4,-5,7,9,3,2]\n"
   ]
  },
  {
   "cell_type": "code",
   "execution_count": 24,
   "id": "784871fa",
   "metadata": {},
   "outputs": [
    {
     "name": "stdout",
     "output_type": "stream",
     "text": [
      "*****\n",
      "****\n",
      "***\n",
      "**\n",
      "*\n"
     ]
    }
   ],
   "source": [
    "for i in range(5):\n",
    "    for j in range(5-i):\n",
    "        print(\"*\",end=\"\")\n",
    "    print()"
   ]
  },
  {
   "cell_type": "code",
   "execution_count": 43,
   "id": "0a538afb",
   "metadata": {},
   "outputs": [
    {
     "name": "stdout",
     "output_type": "stream",
     "text": [
      "\n",
      "    *\n",
      "   **\n",
      "  ***\n",
      " ****\n",
      "*****"
     ]
    }
   ],
   "source": [
    "for i in range(5):\n",
    "    print()\n",
    "    for k in range(4-i):\n",
    "        print(\" \",end=\"\")\n",
    "    for j in range(i+1):\n",
    "        print(\"*\",end=\"\")\n"
   ]
  },
  {
   "cell_type": "markdown",
   "id": "70d9f3e3",
   "metadata": {},
   "source": [
    "function"
   ]
  },
  {
   "cell_type": "code",
   "execution_count": 46,
   "id": "a6fdcd7f",
   "metadata": {},
   "outputs": [
    {
     "name": "stdout",
     "output_type": "stream",
     "text": [
      "Help on built-in function divmod in module builtins:\n",
      "\n",
      "divmod(x, y, /)\n",
      "    Return the tuple (x//y, x%y).  Invariant: div*y + mod == x.\n",
      "\n"
     ]
    }
   ],
   "source": [
    "help(divmod)"
   ]
  },
  {
   "cell_type": "code",
   "execution_count": 47,
   "id": "f267af1e",
   "metadata": {},
   "outputs": [
    {
     "name": "stdout",
     "output_type": "stream",
     "text": [
      "Variable      Type     Data/Info\n",
      "--------------------------------\n",
      "d             dict     n=4\n",
      "floa          float    221.23\n",
      "i             int      4\n",
      "intt          str      221\n",
      "inttt         int      221\n",
      "j             int      4\n",
      "k             int      0\n",
      "point_place   int      3\n",
      "strin         str      221.23\n",
      "x             str      d\n"
     ]
    }
   ],
   "source": [
    "%whos"
   ]
  },
  {
   "cell_type": "code",
   "execution_count": 48,
   "id": "455ea13e",
   "metadata": {},
   "outputs": [],
   "source": [
    "def mypow(a,b):\n",
    "    c = a**b\n",
    "    print(c)"
   ]
  },
  {
   "cell_type": "code",
   "execution_count": 49,
   "id": "d906d9bd",
   "metadata": {},
   "outputs": [
    {
     "name": "stdout",
     "output_type": "stream",
     "text": [
      "\u001b[31mSignature:\u001b[39m mypow(a, b)\n",
      "\u001b[31mDocstring:\u001b[39m <no docstring>\n",
      "\u001b[31mFile:\u001b[39m      c:\\users\\lenovo\\appdata\\local\\temp\\ipykernel_12268\\3939265083.py\n",
      "\u001b[31mType:\u001b[39m      function"
     ]
    }
   ],
   "source": [
    "mypow?"
   ]
  },
  {
   "cell_type": "code",
   "execution_count": null,
   "id": "563889b0",
   "metadata": {},
   "outputs": [
    {
     "name": "stdout",
     "output_type": "stream",
     "text": [
      "8\n",
      "None\n"
     ]
    }
   ],
   "source": [
    "print(mypow(2,3))"
   ]
  },
  {
   "cell_type": "code",
   "execution_count": 53,
   "id": "63816c66",
   "metadata": {},
   "outputs": [
    {
     "name": "stdout",
     "output_type": "stream",
     "text": [
      "Variable      Type        Data/Info\n",
      "-----------------------------------\n",
      "d             dict        n=4\n",
      "floa          float       221.23\n",
      "i             int         4\n",
      "intt          str         221\n",
      "inttt         int         221\n",
      "j             int         4\n",
      "k             int         0\n",
      "mypow         function    <function mypow at 0x0000013788FC6A20>\n",
      "point_place   int         3\n",
      "strin         str         221.23\n",
      "x             str         d\n"
     ]
    }
   ],
   "source": [
    "%whos"
   ]
  },
  {
   "cell_type": "code",
   "execution_count": null,
   "id": "31563ffd",
   "metadata": {},
   "outputs": [],
   "source": []
  }
 ],
 "metadata": {
  "kernelspec": {
   "display_name": "Python 3",
   "language": "python",
   "name": "python3"
  },
  "language_info": {
   "codemirror_mode": {
    "name": "ipython",
    "version": 3
   },
   "file_extension": ".py",
   "mimetype": "text/x-python",
   "name": "python",
   "nbconvert_exporter": "python",
   "pygments_lexer": "ipython3",
   "version": "3.13.4"
  }
 },
 "nbformat": 4,
 "nbformat_minor": 5
}
