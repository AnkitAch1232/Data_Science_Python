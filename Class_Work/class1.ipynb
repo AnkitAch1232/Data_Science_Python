{
 "cells": [
  {
   "cell_type": "code",
   "execution_count": 7,
   "id": "8075f52f",
   "metadata": {},
   "outputs": [
    {
     "name": "stdout",
     "output_type": "stream",
     "text": [
      "ankit\n"
     ]
    }
   ],
   "source": [
    "print(\"ankit\")"
   ]
  },
  {
   "cell_type": "code",
   "execution_count": 6,
   "id": "1466ac58",
   "metadata": {},
   "outputs": [
    {
     "name": "stdout",
     "output_type": "stream",
     "text": [
      "Variable   Type     Data/Info\n",
      "-----------------------------\n",
      "x          int      3\n",
      "y          float    5.2\n",
      "<class 'int'>\n"
     ]
    }
   ],
   "source": [
    "#Data type\n",
    "#Dynamically type\n",
    "x= 3\n",
    "y = 5.2\n",
    "%whos\n",
    "print(type(x))"
   ]
  },
  {
   "cell_type": "code",
   "execution_count": 14,
   "id": "7da92b2d",
   "metadata": {},
   "outputs": [
    {
     "name": "stdout",
     "output_type": "stream",
     "text": [
      "2\n",
      "k\n",
      "{'k', 't', 'A', 'i', 'n'}\n",
      "Variable   Type     Data/Info\n",
      "-----------------------------\n",
      "a          int      2\n",
      "c          int      13\n",
      "d          int      13\n",
      "e          int      233\n",
      "f          str      Ankit\n",
      "x          int      3\n",
      "y          float    5.2\n"
     ]
    }
   ],
   "source": [
    "a,b,c,d,e,f = 2,31,13,13,233,\"Ankit\"\n",
    "print(a)\n",
    "print(f[2])\n",
    "print(set(f))\n",
    "del b\n",
    "\n",
    "%whos"
   ]
  },
  {
   "cell_type": "code",
   "execution_count": 15,
   "id": "db196883",
   "metadata": {},
   "outputs": [
    {
     "name": "stdout",
     "output_type": "stream",
     "text": [
      "(2+4j)\n"
     ]
    }
   ],
   "source": [
    "c = 2+4j\n",
    "print(c)"
   ]
  },
  {
   "cell_type": "code",
   "execution_count": null,
   "id": "b4191982",
   "metadata": {},
   "outputs": [],
   "source": []
  },
  {
   "cell_type": "markdown",
   "id": "bf1450f9",
   "metadata": {},
   "source": [
    "Types of Operator\n",
    "1. Arthimetic Operator -> -,+,/\n",
    "2. Relational Operator -> <,>,<=,>=,==\n",
    "3. Logical Operator -> and , or\n",
    "4. Assignment Operator -> =,+=,-=\n",
    "5. Shifting Operator -> >>,<< -  hunna python ma\n",
    "6. Uniary Operator -> a++, b++, --a\n",
    "7. Terniary Operator -> expression?statement1 : statement2  (statement1 runs if expression is true else statement2 runs)  -    hunna python ma\n",
    "8. Bitwise Operator -> &,|,! -  hunna python ma"
   ]
  },
  {
   "cell_type": "code",
   "execution_count": 17,
   "id": "8c256052",
   "metadata": {},
   "outputs": [
    {
     "name": "stdout",
     "output_type": "stream",
     "text": [
      "hello world\n"
     ]
    }
   ],
   "source": [
    "s1= \"hello\"\n",
    "s2=\"world\"\n",
    "print(f\"{s1} {s2}\")"
   ]
  },
  {
   "cell_type": "code",
   "execution_count": 23,
   "id": "0ffe5728",
   "metadata": {},
   "outputs": [
    {
     "name": "stdout",
     "output_type": "stream",
     "text": [
      "5\n"
     ]
    }
   ],
   "source": [
    "x3 = 5\n",
    "print(x3)\n",
    "\n",
    "#suru ma number  vaye variables name rakhna mildaina\n"
   ]
  },
  {
   "cell_type": "code",
   "execution_count": 24,
   "id": "8a3a1216",
   "metadata": {},
   "outputs": [
    {
     "data": {
      "text/plain": [
       "False"
      ]
     },
     "execution_count": 24,
     "metadata": {},
     "output_type": "execute_result"
    }
   ],
   "source": [
    "a = True\n",
    "b = True\n",
    "c = False\n",
    "d = True\n",
    "not((a and b) and (c or d))"
   ]
  },
  {
   "cell_type": "code",
   "execution_count": 25,
   "id": "aa24929c",
   "metadata": {},
   "outputs": [
    {
     "name": "stdout",
     "output_type": "stream",
     "text": [
      "True\n"
     ]
    }
   ],
   "source": [
    "g = a or b and c\n",
    "print(g)"
   ]
  },
  {
   "cell_type": "markdown",
   "id": "b81d9417",
   "metadata": {},
   "source": [
    "Comparison"
   ]
  },
  {
   "cell_type": "code",
   "execution_count": 26,
   "id": "bf47a50b",
   "metadata": {},
   "outputs": [
    {
     "name": "stdout",
     "output_type": "stream",
     "text": [
      "False\n"
     ]
    }
   ],
   "source": [
    "print(2>3)"
   ]
  },
  {
   "cell_type": "code",
   "execution_count": 27,
   "id": "ec65f78a",
   "metadata": {},
   "outputs": [
    {
     "name": "stdout",
     "output_type": "stream",
     "text": [
      "<class 'bool'>\n",
      "False\n"
     ]
    }
   ],
   "source": [
    "c = 2>3\n",
    "print(type(c))\n",
    "print(c)"
   ]
  },
  {
   "cell_type": "code",
   "execution_count": 28,
   "id": "ec1cf9c6",
   "metadata": {},
   "outputs": [
    {
     "name": "stdout",
     "output_type": "stream",
     "text": [
      "4\n"
     ]
    }
   ],
   "source": [
    "print(round(4.5))"
   ]
  }
 ],
 "metadata": {
  "kernelspec": {
   "display_name": "Python 3",
   "language": "python",
   "name": "python3"
  },
  "language_info": {
   "codemirror_mode": {
    "name": "ipython",
    "version": 3
   },
   "file_extension": ".py",
   "mimetype": "text/x-python",
   "name": "python",
   "nbconvert_exporter": "python",
   "pygments_lexer": "ipython3",
   "version": "3.13.4"
  }
 },
 "nbformat": 4,
 "nbformat_minor": 5
}
