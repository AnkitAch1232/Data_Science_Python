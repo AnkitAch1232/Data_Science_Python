{
 "cells": [
  {
   "cell_type": "code",
   "execution_count": null,
   "id": "225a8b34",
   "metadata": {},
   "outputs": [],
   "source": []
  },
  {
   "cell_type": "code",
   "execution_count": 7,
   "id": "8075f52f",
   "metadata": {},
   "outputs": [
    {
     "name": "stdout",
     "output_type": "stream",
     "text": [
      "ankit\n"
     ]
    }
   ],
   "source": [
    "print(\"ankit\")"
   ]
  },
  {
   "cell_type": "code",
   "execution_count": null,
   "id": "ce33f9f8",
   "metadata": {},
   "outputs": [],
   "source": []
  },
  {
   "cell_type": "code",
   "execution_count": 6,
   "id": "1466ac58",
   "metadata": {},
   "outputs": [
    {
     "name": "stdout",
     "output_type": "stream",
     "text": [
      "Variable   Type     Data/Info\n",
      "-----------------------------\n",
      "x          int      3\n",
      "y          float    5.2\n",
      "<class 'int'>\n"
     ]
    }
   ],
   "source": [
    "#Data type\n",
    "#Dynamically type\n",
    "x= 3\n",
    "y = 5.2\n",
    "%whos\n",
    "print(type(x))"
   ]
  },
  {
   "cell_type": "code",
   "execution_count": 14,
   "id": "7da92b2d",
   "metadata": {},
   "outputs": [
    {
     "name": "stdout",
     "output_type": "stream",
     "text": [
      "2\n",
      "k\n",
      "{'k', 't', 'A', 'i', 'n'}\n",
      "Variable   Type     Data/Info\n",
      "-----------------------------\n",
      "a          int      2\n",
      "c          int      13\n",
      "d          int      13\n",
      "e          int      233\n",
      "f          str      Ankit\n",
      "x          int      3\n",
      "y          float    5.2\n"
     ]
    }
   ],
   "source": [
    "a,b,c,d,e,f = 2,31,13,13,233,\"Ankit\"\n",
    "print(a)\n",
    "print(f[2])\n",
    "print(set(f))\n",
    "del b\n",
    "\n",
    "%whos"
   ]
  },
  {
   "cell_type": "code",
   "execution_count": 15,
   "id": "db196883",
   "metadata": {},
   "outputs": [
    {
     "name": "stdout",
     "output_type": "stream",
     "text": [
      "(2+4j)\n"
     ]
    }
   ],
   "source": [
    "c = 2+4j\n",
    "print(c)"
   ]
  },
  {
   "cell_type": "code",
   "execution_count": null,
   "id": "b4191982",
   "metadata": {},
   "outputs": [],
   "source": []
  },
  {
   "cell_type": "markdown",
   "id": "bf1450f9",
   "metadata": {},
   "source": [
    "Types of Operator\n",
    "1. Arthimetic Operator -> -,+,/\n",
    "2. Relational Operator -> <,>,<=,>=,==\n",
    "3. Logical Operator -> and , or\n",
    "4. Assignment Operator -> =,+=,-=\n",
    "5. Shifting Operator -> >>,<< -  hunna python ma\n",
    "6. Uniary Operator -> a++, b++, --a\n",
    "7. Terniary Operator -> expression?statement1 : statement2  (statement1 runs if expression is true else statement2 runs)  -    hunna python ma\n",
    "8. Bitwise Operator -> &,|,! -  hunna python ma"
   ]
  },
  {
   "cell_type": "code",
   "execution_count": null,
   "id": "8c256052",
   "metadata": {},
   "outputs": [],
   "source": []
  }
 ],
 "metadata": {
  "kernelspec": {
   "display_name": "Python 3",
   "language": "python",
   "name": "python3"
  },
  "language_info": {
   "codemirror_mode": {
    "name": "ipython",
    "version": 3
   },
   "file_extension": ".py",
   "mimetype": "text/x-python",
   "name": "python",
   "nbconvert_exporter": "python",
   "pygments_lexer": "ipython3",
   "version": "3.13.4"
  }
 },
 "nbformat": 4,
 "nbformat_minor": 5
}
